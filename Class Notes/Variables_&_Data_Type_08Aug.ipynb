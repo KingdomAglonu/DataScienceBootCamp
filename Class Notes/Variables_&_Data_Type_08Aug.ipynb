{
  "nbformat": 4,
  "nbformat_minor": 0,
  "metadata": {
    "colab": {
      "provenance": []
    },
    "kernelspec": {
      "name": "python3",
      "display_name": "Python 3"
    },
    "language_info": {
      "name": "python"
    }
  },
  "cells": [
    {
      "cell_type": "code",
      "source": [
        "# valid variables and invalid variables\n",
        "\n",
        "name = 'Anuurag'\n",
        "# 12gender = 'M'\n",
        "# @address = '123 Park Street'\n",
        "_fname = 'Umesh'\n",
        "gen12der = 'M'\n",
        "print(name, _fname, gen12der)\n",
        "last@name = 'Peter'"
      ],
      "metadata": {
        "id": "Fno2yms5aLtB"
      },
      "execution_count": null,
      "outputs": []
    },
    {
      "cell_type": "code",
      "source": [
        "#Wednesday August 09, 2023"
      ],
      "metadata": {
        "id": "MrWqZ3WZDM_i"
      },
      "execution_count": null,
      "outputs": []
    },
    {
      "cell_type": "code",
      "source": [
        "Python Data Type\n",
        "  1. Standard Data Type\n",
        "    1. Numbers\n",
        "      1. Integer\n",
        "      2. Float\n",
        "      3. Complex\n",
        "    2. Boolean\n",
        "    3. String\n",
        "  2. Data Structure Data Type\n",
        "    1. List\n",
        "    2. Tuple\n",
        "    3. Set\n",
        "    4. Dictionary"
      ],
      "metadata": {
        "id": "Tl_2vDy2DmEO"
      },
      "execution_count": null,
      "outputs": []
    },
    {
      "cell_type": "code",
      "source": [
        "# Integer : Any whole number (+ve or -ve) is called as integer\n",
        "\n",
        "int1 = 1947\n",
        "print(int1)\n",
        "print(type(int1))\n",
        "\n",
        "int1 = -1947\n",
        "print(int1)\n",
        "print(type(int1))"
      ],
      "metadata": {
        "id": "7j8pvaSoDysM"
      },
      "execution_count": null,
      "outputs": []
    },
    {
      "cell_type": "code",
      "source": [
        "# Float : Any combination of whole number and fractional number (+ve or -ve) is called as float.\n",
        "\n",
        "flt1 = 3.1415\n",
        "print(flt1)\n",
        "print(type(flt1))\n",
        "\n",
        "flt1 = -3.1415\n",
        "print(flt1)\n",
        "print(type(flt1))"
      ],
      "metadata": {
        "id": "rN26p_THD2ra"
      },
      "execution_count": null,
      "outputs": []
    },
    {
      "cell_type": "code",
      "source": [
        "# Complex : Combination of integer or float and imagenary number (+ve or -ve) integer or float is called as compex\n",
        "\n",
        "cmplx1 = 2 + 3j\n",
        "print(cmplx1)\n",
        "print(type(cmplx1))\n",
        "\n",
        "cmplx1 = -2 - 3j\n",
        "print(cmplx1)\n",
        "print(type(cmplx1))"
      ],
      "metadata": {
        "id": "MYAWiacYD6W_"
      },
      "execution_count": null,
      "outputs": []
    },
    {
      "cell_type": "code",
      "source": [
        "# Boolean : True and False\n",
        "\n",
        "bool1 = True\n",
        "print(bool1)\n",
        "print(type(bool1))\n",
        "\n",
        "bool1 = False\n",
        "print(bool1)\n",
        "print(type(bool1))"
      ],
      "metadata": {
        "id": "ATBCAJwZD_KJ"
      },
      "execution_count": null,
      "outputs": []
    },
    {
      "cell_type": "code",
      "source": [
        "# String\n",
        "# any combination inside single quotes\n",
        "# any combination inside double quotes\n",
        "# any combination inside triple single quotes\n",
        "# any combination inside triple doublr quotes\n",
        "\n",
        "\n",
        "str1 = 'Python Programming'\n",
        "print(str1)\n",
        "print(type(str1))\n",
        "\n",
        "str1 = \"Python Programming\"\n",
        "print(str1)\n",
        "print(type(str1))\n",
        "\n",
        "str1 = '''Python Programming'''\n",
        "print(str1)\n",
        "print(type(str1))\n",
        "\n",
        "str1 = \"\"\"Python Programming\"\"\"\n",
        "print(str1)\n",
        "print(type(str1))"
      ],
      "metadata": {
        "id": "5hbykdDzED3X"
      },
      "execution_count": null,
      "outputs": []
    },
    {
      "cell_type": "code",
      "source": [
        "#Data Structure Data Types"
      ],
      "metadata": {
        "id": "Yp8fKfGwQRcc"
      },
      "execution_count": null,
      "outputs": []
    },
    {
      "cell_type": "code",
      "source": [
        "#List\n",
        "list1 = [1,2,-3,'True','False', 4.2, 5.8,7j, 'These are examples of data types' ]\n",
        "print(list1)\n",
        "print(type(list1))"
      ],
      "metadata": {
        "colab": {
          "base_uri": "https://localhost:8080/"
        },
        "id": "y56L1cDW7Xlz",
        "outputId": "daa16a6f-040e-4490-baa2-aacbcb508f08"
      },
      "execution_count": null,
      "outputs": [
        {
          "output_type": "stream",
          "name": "stdout",
          "text": [
            "[1, 2, -3, 'True', 'False', 4.2, 5.8, 7j, 'These are examples of data types']\n",
            "<class 'list'>\n"
          ]
        }
      ]
    },
    {
      "cell_type": "code",
      "source": [
        "#Tuple\n",
        "tple = (1,2,-3,'True','False', 4.2, 5.8,7j, 'These are examples of data types')\n",
        "print(tple)\n",
        "print(type(tple))"
      ],
      "metadata": {
        "colab": {
          "base_uri": "https://localhost:8080/"
        },
        "id": "o-jhPNpZ8G4j",
        "outputId": "acecd391-a9cd-46a4-85f1-b55bb314f027"
      },
      "execution_count": null,
      "outputs": [
        {
          "output_type": "stream",
          "name": "stdout",
          "text": [
            "(1, 2, -3, 'True', 'False', 4.2, 5.8, 7j, 'These are examples of data types')\n",
            "<class 'tuple'>\n"
          ]
        }
      ]
    },
    {
      "cell_type": "code",
      "source": [
        "#Set\n",
        "\n",
        "# 1. Set is combination of unique values\n",
        "# 2. Set is collection of unordered element\n",
        "# 3. Set is represented by curly brackets\n",
        "# 4. Set is mutable\n",
        "\n",
        "set1 = {'a','b','c','D','E','F',1,2,3,'!','@','#','a','b','c','D','E','F',1,2,3,'!','@','#',}\n",
        "print(set1)\n",
        "print(type(set1))\n",
        "set1 = {'x','y','z', 0,1, 2, 3,True,False, '@', '#', '%','x','y','z', 0,1, 2, 3, '@', '#', '%',True,False}\n",
        "print(set1)\n",
        "print(type(set1))"
      ],
      "metadata": {
        "colab": {
          "base_uri": "https://localhost:8080/"
        },
        "id": "r1JeTe_e8epJ",
        "outputId": "1ea9b195-ab1c-46aa-fd24-3680b2ab6663"
      },
      "execution_count": null,
      "outputs": [
        {
          "output_type": "stream",
          "name": "stdout",
          "text": [
            "{0, 1, 2, 3, 'x', 'z', 'y', '#', '%', '@'}\n",
            "<class 'set'>\n"
          ]
        }
      ]
    },
    {
      "cell_type": "code",
      "source": [
        "#Dictionary has key and values\n",
        "dict1 = {'animals':['dog','cat'], 'birds':('turkey', 'chicken')}\n",
        "print(dict1)\n",
        "print(type(dict1))"
      ],
      "metadata": {
        "colab": {
          "base_uri": "https://localhost:8080/"
        },
        "id": "nbsRNhFO_9Ef",
        "outputId": "33b7def6-c3d4-4438-a2f6-9150b614015f"
      },
      "execution_count": null,
      "outputs": [
        {
          "output_type": "stream",
          "name": "stdout",
          "text": [
            "{'animals': ['dog', 'cat'], 'birds': ('turkey', 'chicken')}\n",
            "<class 'dict'>\n"
          ]
        }
      ]
    }
  ]
}