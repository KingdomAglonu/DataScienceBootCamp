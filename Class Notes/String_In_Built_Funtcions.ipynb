{
  "nbformat": 4,
  "nbformat_minor": 0,
  "metadata": {
    "colab": {
      "provenance": []
    },
    "kernelspec": {
      "name": "python3",
      "display_name": "Python 3"
    },
    "language_info": {
      "name": "python"
    }
  },
  "cells": [
    {
      "cell_type": "code",
      "execution_count": 7,
      "metadata": {
        "colab": {
          "base_uri": "https://localhost:8080/"
        },
        "id": "YtixGgb-SDGQ",
        "outputId": "3c71726d-b2b1-4a47-fa46-5ed6491d3a6f"
      },
      "outputs": [
        {
          "output_type": "stream",
          "name": "stdout",
          "text": [
            "HLoWrd\n"
          ]
        }
      ],
      "source": [
        "temp_str = 'HeLLo WorLd'\n",
        "print(temp_str[::2])"
      ]
    },
    {
      "cell_type": "code",
      "source": [
        "#Magic funtions\n",
        "dir(temp_str)"
      ],
      "metadata": {
        "colab": {
          "base_uri": "https://localhost:8080/"
        },
        "id": "Pkctq8DZTdYs",
        "outputId": "7d61b656-8b76-4614-a05d-db9f37d21a1d"
      },
      "execution_count": 2,
      "outputs": [
        {
          "output_type": "execute_result",
          "data": {
            "text/plain": [
              "['__add__',\n",
              " '__class__',\n",
              " '__contains__',\n",
              " '__delattr__',\n",
              " '__dir__',\n",
              " '__doc__',\n",
              " '__eq__',\n",
              " '__format__',\n",
              " '__ge__',\n",
              " '__getattribute__',\n",
              " '__getitem__',\n",
              " '__getnewargs__',\n",
              " '__gt__',\n",
              " '__hash__',\n",
              " '__init__',\n",
              " '__init_subclass__',\n",
              " '__iter__',\n",
              " '__le__',\n",
              " '__len__',\n",
              " '__lt__',\n",
              " '__mod__',\n",
              " '__mul__',\n",
              " '__ne__',\n",
              " '__new__',\n",
              " '__reduce__',\n",
              " '__reduce_ex__',\n",
              " '__repr__',\n",
              " '__rmod__',\n",
              " '__rmul__',\n",
              " '__setattr__',\n",
              " '__sizeof__',\n",
              " '__str__',\n",
              " '__subclasshook__',\n",
              " 'capitalize',\n",
              " 'casefold',\n",
              " 'center',\n",
              " 'count',\n",
              " 'encode',\n",
              " 'endswith',\n",
              " 'expandtabs',\n",
              " 'find',\n",
              " 'format',\n",
              " 'format_map',\n",
              " 'index',\n",
              " 'isalnum',\n",
              " 'isalpha',\n",
              " 'isascii',\n",
              " 'isdecimal',\n",
              " 'isdigit',\n",
              " 'isidentifier',\n",
              " 'islower',\n",
              " 'isnumeric',\n",
              " 'isprintable',\n",
              " 'isspace',\n",
              " 'istitle',\n",
              " 'isupper',\n",
              " 'join',\n",
              " 'ljust',\n",
              " 'lower',\n",
              " 'lstrip',\n",
              " 'maketrans',\n",
              " 'partition',\n",
              " 'removeprefix',\n",
              " 'removesuffix',\n",
              " 'replace',\n",
              " 'rfind',\n",
              " 'rindex',\n",
              " 'rjust',\n",
              " 'rpartition',\n",
              " 'rsplit',\n",
              " 'rstrip',\n",
              " 'split',\n",
              " 'splitlines',\n",
              " 'startswith',\n",
              " 'strip',\n",
              " 'swapcase',\n",
              " 'title',\n",
              " 'translate',\n",
              " 'upper',\n",
              " 'zfill']"
            ]
          },
          "metadata": {},
          "execution_count": 2
        }
      ]
    },
    {
      "cell_type": "code",
      "source": [
        "#This function capitalizes the first char of the string\n",
        "temp_str = 'hello world'\n",
        "print(temp_str.capitalize())"
      ],
      "metadata": {
        "id": "pDyPmLgJT0rk"
      },
      "execution_count": null,
      "outputs": []
    },
    {
      "cell_type": "code",
      "source": [
        "#This brings all string char to lower case in case some are in upper case\n",
        "temp_str = \"HeLLo WorLd\"\n",
        "print(temp_str.casefold())"
      ],
      "metadata": {
        "id": "tGK8abOdVtGM"
      },
      "execution_count": null,
      "outputs": []
    },
    {
      "cell_type": "code",
      "source": [
        "#Increase Lenght of string by adding whatever char is mentioned if not by default fills by space\n",
        "temp_str = \"HeLLo WorLd\"\n",
        "print(temp_str.center(15,\"*\"))"
      ],
      "metadata": {
        "colab": {
          "base_uri": "https://localhost:8080/"
        },
        "id": "AOEaILHSWBzM",
        "outputId": "702a7979-7eac-4d0c-b914-709090271a0b"
      },
      "execution_count": 13,
      "outputs": [
        {
          "output_type": "stream",
          "name": "stdout",
          "text": [
            "**HeLLo WorLd**\n"
          ]
        }
      ]
    },
    {
      "cell_type": "code",
      "source": [
        "#Returns how many times substring appears in the given string and its case sensitive\n",
        "temp_str = \"HeLLO WorLd is it going? Hello all good\".casefold()\n",
        "print(temp_str)\n",
        "print(temp_str.count(\"Hello\"))\n",
        "print(temp_str.count(\"hello\"))\n",
        "#How to give range\n",
        "#count(value,start,end)#start and end are optional if not given full string\n",
        "temp_str_2 = \"hello wolrd how is it going? hello all good hello\"\n",
        "print(temp_str_2.count(\"hello\"))\n",
        "print(temp_str_2[2:5]) #Slicing the string \"temp_str2\" here\n",
        "print(temp_str_2.count(\"hello\",2)) # there are three hellos but the command start the string from index 2 \"llo\" that brings the \"hello\" to just 2"
      ],
      "metadata": {
        "colab": {
          "base_uri": "https://localhost:8080/"
        },
        "id": "afSm2bCfW0ZQ",
        "outputId": "dee53a73-d290-45a1-a368-c0fefaf85a09"
      },
      "execution_count": 7,
      "outputs": [
        {
          "output_type": "stream",
          "name": "stdout",
          "text": [
            "hello world is it going? hello all good\n",
            "0\n",
            "2\n",
            "3\n",
            "llo\n",
            "2\n"
          ]
        }
      ]
    },
    {
      "cell_type": "code",
      "source": [
        "#Returns True and False on the basis of suffix passed if it ends the string\n",
        "temp_str = \"HeLLo worLd how is it going? Hello all good!\"\n",
        "print(temp_str.endswith(\"d!\")) #This returns True because we have one \"d!\"at the end of string \"good!\"\n",
        "#Giving range .    endswith(value,start,end)\n",
        "print(temp_str.endswith(\"Lo\")) #This returns False even though \"Lo\" can be found in the string but the string doesn't end with it\n",
        "\n",
        "print(temp_str.endswith(\"Lo\",0,5))#This returns True because we took out only the first five letters so our string of consideration is now \"HeLLo\" which ends with \"Lo\"\n",
        "print(temp_str.endswith(\"good\",0,len(temp_str)-1))#This is true for the entire string. Full range is given"
      ],
      "metadata": {
        "id": "n1sxYfrSbuXB"
      },
      "execution_count": null,
      "outputs": []
    },
    {
      "cell_type": "code",
      "source": [
        "#This returns the index of the first alphat of the lowest or first substring and return -1 if the substring is not found\n",
        "temp_str = \"HeLLo worLd how is it going? Hello all good! how are you!\"\n",
        "print(temp_str.find(\"how\"))# Even though there are two \"how\" in the string, it returns the index of the first alphat of the lowest or first \"how\"\n",
        "print(temp_str.find(\"howafafaf\"))# This substring cannot be found so it returens -1"
      ],
      "metadata": {
        "id": "mTLmzWijXDue"
      },
      "execution_count": null,
      "outputs": []
    },
    {
      "cell_type": "code",
      "source": [
        "#\n",
        "temp_str = \"Hollo my name is {fname}, I am a {position}\"\n",
        "print(temp_str)\n",
        "print(temp_str.format(fname=\"Kingdom\",position = \"Data Scientist\"))\n",
        "#Another way of doing this\n",
        "temp_str1 = \"Hello my name is {0}, I am a {1} from {2}\" #The index starting from zero correspond to each fill in respectively\n",
        "print(temp_str1.format(\"Kingdom\",\"Data Scientist\", \"Ghana\"))\n"
      ],
      "metadata": {
        "id": "cS3WpurTZTaV"
      },
      "execution_count": null,
      "outputs": []
    },
    {
      "cell_type": "code",
      "source": [
        "#Replica of find fuction and returns erro if nothing found\n",
        "temp_str = \"HeLLo worLd how is it going? Hello all good! how are you!\"\n",
        "temp_str.index(\"how\")#Returns theindex of the first alphat of the lowest or first substring\n",
        "temp_str.index(\"how111\")# This returns error becouse the substring \"how111\" cannot be found"
      ],
      "metadata": {
        "colab": {
          "base_uri": "https://localhost:8080/"
        },
        "id": "u4V4fnt5b5qr",
        "outputId": "3d659d3b-33d5-4f12-e156-0035da64f512"
      },
      "execution_count": 23,
      "outputs": [
        {
          "output_type": "execute_result",
          "data": {
            "text/plain": [
              "12"
            ]
          },
          "metadata": {},
          "execution_count": 23
        }
      ]
    },
    {
      "cell_type": "code",
      "source": [
        "#This returns True if the string contains alpha numeric else it returns False\n",
        "temp_str = \"HeLLo worLd how is it going? Hello all good! how are you!\"\n",
        "print(temp_str.isalnum()) #There is not numbers in the string only alphabets\n",
        "temp_str1 =\"Helloworld1256\" #There exist both alphabets and numbers in the srting so it returns True\n",
        "print(temp_str1.isalnum())\n",
        "print(temp_str[0:5].isalnum())\n",
        "\n",
        "#NOTE: The space or"
      ],
      "metadata": {
        "colab": {
          "base_uri": "https://localhost:8080/"
        },
        "id": "wNjwLuWLdKgH",
        "outputId": "9e3a84cb-0601-485a-8286-bb4be20db355"
      },
      "execution_count": 26,
      "outputs": [
        {
          "output_type": "stream",
          "name": "stdout",
          "text": [
            "False\n",
            "True\n",
            "True\n"
          ]
        }
      ]
    },
    {
      "cell_type": "code",
      "source": [
        "#Returnd True if only alphabets are found in the string else returns False\n",
        "temp_str = \"Helloworld\"\n",
        "print(temp_str.isalpha()) # Only alphabet so it returns True\n",
        "temp_str2 = \"Helloworld1258\" #Numbers are present so False is return\n",
        "print(temp_str2.isalpha())\n",
        "temp_str3 = \"Hello world\"\n",
        "print(temp_str3.isalpha()) #This returns False because Space of gap between the string is regarded as a number"
      ],
      "metadata": {
        "colab": {
          "base_uri": "https://localhost:8080/"
        },
        "id": "hGI_9e-9e-GH",
        "outputId": "c4220abc-a2f3-49a8-9888-3f9e9c6b4658"
      },
      "execution_count": 29,
      "outputs": [
        {
          "output_type": "stream",
          "name": "stdout",
          "text": [
            "True\n",
            "False\n",
            "False\n"
          ]
        }
      ]
    },
    {
      "cell_type": "code",
      "source": [
        "#Returns True if only the string is a number between 0-9 else False\n",
        "#This can also be used for unicodes\n",
        "temp_str = \"Hello World\"\n",
        "print(temp_str.isdecimal())\n",
        "temp_str1 = \"0125489421653\"\n",
        "print(temp_str1.isdecimal())\n",
        "temp_str2 = \"   0125489421653   \" # This regards the spaces as not between 0-9\n",
        "print(temp_str.isdecimal())\n",
        "unicode_0 = \"\\u0030\" # The string is a unicode for \"0\" which is between 0-9\n",
        "print(unicode_0.isdecimal())"
      ],
      "metadata": {
        "colab": {
          "base_uri": "https://localhost:8080/"
        },
        "id": "zyyITEYXgZji",
        "outputId": "6a2781bc-6b3d-4c66-a660-1ae0c3b57080"
      },
      "execution_count": 37,
      "outputs": [
        {
          "output_type": "stream",
          "name": "stdout",
          "text": [
            "False\n",
            "True\n",
            "False\n",
            "True\n"
          ]
        }
      ]
    },
    {
      "cell_type": "code",
      "source": [
        "#This returns\n",
        "temp_str = \"0124568979\"\n",
        "temp_str1 = \"Hello World\"\n",
        "unicode_0 = \"\\u0030\"\n",
        "print(temp_str.isdigit())\n",
        "print(temp_str1.isdigit())\n",
        "print(unicode_0.isdigit())"
      ],
      "metadata": {
        "colab": {
          "base_uri": "https://localhost:8080/"
        },
        "id": "Jlqf4kRhhPI3",
        "outputId": "412f205c-f6f8-4489-acd3-37aad35a573e"
      },
      "execution_count": 4,
      "outputs": [
        {
          "output_type": "stream",
          "name": "stdout",
          "text": [
            "True\n",
            "False\n",
            "True\n"
          ]
        }
      ]
    },
    {
      "cell_type": "code",
      "source": [
        "#Return True if a keyword is an idenfier in Python else False\n",
        "#This works for variable declaration if the decalration is accurate, True\n",
        "temp_str = \"Hello world\"\n",
        "print(temp_str.isidentifier())\n",
        "temp_str2 = \"if\"\n",
        "print(temp_str2.isidentifier())\n",
        "temp_str3 = \"2_ananan\"\n",
        "print(temp_str3.isidentifier())\n"
      ],
      "metadata": {
        "colab": {
          "base_uri": "https://localhost:8080/"
        },
        "id": "y_gZVBlNedV5",
        "outputId": "1e6e4eef-d5cc-4da4-eee1-41d0481571a8"
      },
      "execution_count": 7,
      "outputs": [
        {
          "output_type": "stream",
          "name": "stdout",
          "text": [
            "False\n",
            "True\n",
            "False\n"
          ]
        }
      ]
    },
    {
      "cell_type": "code",
      "source": [
        "#Returns True if all the string is in lower case else False\n",
        "temp_str = \"Hello world\"\n",
        "print(temp_str.islower())\n",
        "temp_str2 = \"hellow world 1125\"\n",
        "print(temp_str2.islower())"
      ],
      "metadata": {
        "colab": {
          "base_uri": "https://localhost:8080/"
        },
        "id": "izblc2L4btVy",
        "outputId": "eaf09836-b0c8-4909-dfc0-5f6ffa3eef06"
      },
      "execution_count": 5,
      "outputs": [
        {
          "output_type": "stream",
          "name": "stdout",
          "text": [
            "False\n",
            "True\n"
          ]
        }
      ]
    },
    {
      "cell_type": "code",
      "source": [
        "#True for only white space or empty spaces esle False\n",
        "temp_str = \"Hello world\"\n",
        "print(temp_str.isspace())\n",
        "temp_str2 = \" \"\n",
        "print(temp_str2.isspace())"
      ],
      "metadata": {
        "colab": {
          "base_uri": "https://localhost:8080/"
        },
        "id": "j3g69inydTG6",
        "outputId": "2a7acb37-4749-4363-93ab-9ebfae78ec6a"
      },
      "execution_count": 9,
      "outputs": [
        {
          "output_type": "stream",
          "name": "stdout",
          "text": [
            "False\n",
            "True\n"
          ]
        }
      ]
    },
    {
      "cell_type": "code",
      "source": [
        "#True for Title else False. Title is just the first alphabet in Caps\n",
        "temp_str = \"Hello WORLD\"\n",
        "print(temp_str.istitle())\n",
        "temp_str2 = \"Hellow World \"\n",
        "print(temp_str2.istitle())"
      ],
      "metadata": {
        "colab": {
          "base_uri": "https://localhost:8080/"
        },
        "id": "qhjEH9GkdwqD",
        "outputId": "91cafb42-3daa-49f7-e9b7-c274587e4e25"
      },
      "execution_count": 11,
      "outputs": [
        {
          "output_type": "stream",
          "name": "stdout",
          "text": [
            "False\n",
            "True\n"
          ]
        }
      ]
    },
    {
      "cell_type": "code",
      "source": [
        "#True for Upper Case esle False\n",
        "temp_str = \"Hello WORLD\"\n",
        "print(temp_str.isupper())\n",
        "temp_str2 =\"HELLO WORLDDD1245555##!!!\"\n",
        "print(temp_str2.isupper())"
      ],
      "metadata": {
        "colab": {
          "base_uri": "https://localhost:8080/"
        },
        "id": "Lw8n1oahew8H",
        "outputId": "6ce2a307-6c21-4cd5-cfd6-991866d82d20"
      },
      "execution_count": 15,
      "outputs": [
        {
          "output_type": "stream",
          "name": "stdout",
          "text": [
            "False\n",
            "True\n"
          ]
        }
      ]
    },
    {
      "cell_type": "code",
      "source": [
        "#Join tuples, list and set together with the char \"#\" or any othet char\n",
        "list_temp = [\"Hello\", \"World\", \"How\",\"are\", \"you\"]\n",
        "print(\"#\".join(list_temp))"
      ],
      "metadata": {
        "colab": {
          "base_uri": "https://localhost:8080/"
        },
        "id": "RMZr2xqkgTFz",
        "outputId": "501a3eef-f9aa-47c0-b887-7035e00d4ad9"
      },
      "execution_count": 17,
      "outputs": [
        {
          "output_type": "stream",
          "name": "stdout",
          "text": [
            "Hello#World#How#are#you\n"
          ]
        }
      ]
    },
    {
      "cell_type": "code",
      "source": [
        "#lower"
      ],
      "metadata": {
        "id": "DMzEzItfi8zC"
      },
      "execution_count": null,
      "outputs": []
    },
    {
      "cell_type": "code",
      "source": [
        "#Remove white spaces from the left side of the string\n",
        "temp_str = \"    Hello World     \"\n",
        "print(temp_str.lstrip())\n"
      ],
      "metadata": {
        "colab": {
          "base_uri": "https://localhost:8080/"
        },
        "id": "c7peVHplhjrU",
        "outputId": "62375dcc-7557-4a61-9738-6990ab796e35"
      },
      "execution_count": 18,
      "outputs": [
        {
          "output_type": "stream",
          "name": "stdout",
          "text": [
            "Hello World     \n"
          ]
        }
      ]
    },
    {
      "cell_type": "code",
      "source": [
        "# Partition the string before and after the reference world\n",
        "temp_str = \"i could eat apple all day\"\n",
        "print(temp_str.partition(\"apples\"))"
      ],
      "metadata": {
        "colab": {
          "base_uri": "https://localhost:8080/"
        },
        "id": "VgXATRvPiXkp",
        "outputId": "126b054a-1409-4e9e-a159-13a9b0f18793"
      },
      "execution_count": 20,
      "outputs": [
        {
          "output_type": "stream",
          "name": "stdout",
          "text": [
            "('i could eat apple all day', '', '')\n"
          ]
        }
      ]
    },
    {
      "cell_type": "code",
      "source": [
        "temp_str = \"i could eat apple all day, thats all i can say\"\n",
        "print(temp_str.replace('all', 'not').replace(\"apples\",\"mangoes\"))"
      ],
      "metadata": {
        "colab": {
          "base_uri": "https://localhost:8080/"
        },
        "id": "C0fo4qumj1Ij",
        "outputId": "83e4c24d-51ec-4952-e08f-5ab281c315fe"
      },
      "execution_count": 24,
      "outputs": [
        {
          "output_type": "stream",
          "name": "stdout",
          "text": [
            "i could eat apple not day, thats not i can say\n"
          ]
        }
      ]
    },
    {
      "cell_type": "code",
      "source": [
        "#Remove white spaces from the righ\n",
        "temp_str = \"    Hello World     \"\n",
        "print(temp_str.rstrip())"
      ],
      "metadata": {
        "colab": {
          "base_uri": "https://localhost:8080/"
        },
        "id": "diGy5vJyl-Co",
        "outputId": "65a95549-8f66-4f9d-f58b-5782e2b12d81"
      },
      "execution_count": 25,
      "outputs": [
        {
          "output_type": "stream",
          "name": "stdout",
          "text": [
            "    Hello World\n"
          ]
        }
      ]
    },
    {
      "cell_type": "code",
      "source": [
        "#split the string y what ever you specified\n",
        "temp_str = \"i could eat apple all day, thats all i can say\"\n",
        "temp_str.split()\n",
        "temp_str1 = \"i could eat apple all day, thats all i can say\"\n",
        "temp_str1.split(\",\")"
      ],
      "metadata": {
        "colab": {
          "base_uri": "https://localhost:8080/"
        },
        "id": "IQgm5gYQmNfE",
        "outputId": "e690c37b-5cef-4326-eecd-e6b4e8ad78e7"
      },
      "execution_count": 27,
      "outputs": [
        {
          "output_type": "execute_result",
          "data": {
            "text/plain": [
              "['i could eat apple all day', ' thats all i can say']"
            ]
          },
          "metadata": {},
          "execution_count": 27
        }
      ]
    },
    {
      "cell_type": "code",
      "source": [
        "#True when the specified char starts the string\n",
        "temp_str = \"i could eat apple all day, thats all i can say\"\n",
        "print(temp_str.startswith(\"i\"))\n",
        "print(temp_str.startswith(\"could\", 2))"
      ],
      "metadata": {
        "colab": {
          "base_uri": "https://localhost:8080/"
        },
        "id": "5orYpmIem2oC",
        "outputId": "b56bb2f2-049a-4e3f-a820-ce38b08bae67"
      },
      "execution_count": 32,
      "outputs": [
        {
          "output_type": "stream",
          "name": "stdout",
          "text": [
            "True\n",
            "True\n"
          ]
        }
      ]
    },
    {
      "cell_type": "code",
      "source": [
        "#Remove white spaces from the both sides\n",
        "temp_str = \"    Hello World     \"\n",
        "print(temp_str.strip())"
      ],
      "metadata": {
        "colab": {
          "base_uri": "https://localhost:8080/"
        },
        "id": "bSIua_KTnnho",
        "outputId": "456299db-b075-4f59-d316-7b2b6a4af634"
      },
      "execution_count": 33,
      "outputs": [
        {
          "output_type": "stream",
          "name": "stdout",
          "text": [
            "Hello World\n"
          ]
        }
      ]
    },
    {
      "cell_type": "code",
      "source": [
        "#Swap the cases\n",
        "temp_str = \"i could eat APPLE all day, thats all i can say\"\n",
        "print(temp_str.swapcase())"
      ],
      "metadata": {
        "colab": {
          "base_uri": "https://localhost:8080/"
        },
        "id": "3HcLdh6MnzHg",
        "outputId": "7079be9c-1c57-4e1d-88fb-3dcb7b6506c0"
      },
      "execution_count": 34,
      "outputs": [
        {
          "output_type": "stream",
          "name": "stdout",
          "text": [
            "I COULD EAT apple ALL DAY, THATS ALL I CAN SAY\n"
          ]
        }
      ]
    },
    {
      "cell_type": "code",
      "source": [
        "#Turn the first alphabet into Upper case or into Title\n",
        "temp_str = \"i could eat APPLE all day, thats all i can say\"\n",
        "temp_str.title()"
      ],
      "metadata": {
        "colab": {
          "base_uri": "https://localhost:8080/",
          "height": 35
        },
        "id": "rdCIvpPpoJBE",
        "outputId": "59f55a4c-d086-4ade-8b8c-0d3a46b931ad"
      },
      "execution_count": 37,
      "outputs": [
        {
          "output_type": "execute_result",
          "data": {
            "text/plain": [
              "'I Could Eat Apple All Day, Thats All I Can Say'"
            ],
            "application/vnd.google.colaboratory.intrinsic+json": {
              "type": "string"
            }
          },
          "metadata": {},
          "execution_count": 37
        }
      ]
    },
    {
      "cell_type": "code",
      "source": [
        "#Remove duplicate and keep the most recent one\n",
        "temp_str = {83:80,83:78}\n",
        "print(temp_str)"
      ],
      "metadata": {
        "colab": {
          "base_uri": "https://localhost:8080/"
        },
        "id": "FWqaMeuxpFp6",
        "outputId": "8a324ab4-b896-4490-a815-abc20288c74c"
      },
      "execution_count": 38,
      "outputs": [
        {
          "output_type": "stream",
          "name": "stdout",
          "text": [
            "{83: 78}\n"
          ]
        }
      ]
    },
    {
      "cell_type": "code",
      "source": [
        "temp_str = {\"brand\":\"Ford\",\"model\":\"Mustang\", \"year\":1964,\"year\":2020}\n",
        "print(temp_str)"
      ],
      "metadata": {
        "colab": {
          "base_uri": "https://localhost:8080/"
        },
        "id": "N4jo3dPZpwea",
        "outputId": "e0bc331a-48bb-44f2-c779-bc9457bd56ec"
      },
      "execution_count": 40,
      "outputs": [
        {
          "output_type": "stream",
          "name": "stdout",
          "text": [
            "{'brand': 'Ford', 'model': 'Mustang', 'year': 2020}\n"
          ]
        }
      ]
    },
    {
      "cell_type": "code",
      "source": [
        "#Indxing doesnt work in dictionary so this gives error\n",
        "temp_str = {\"brand\":\"Ford\",\"model\":\"Mustang\", \"year\":1964,\"year\":2020}\n",
        "print(temp_str[0]) #Error\n",
        "print(temp_str[\"brand\"])"
      ],
      "metadata": {
        "colab": {
          "base_uri": "https://localhost:8080/"
        },
        "id": "P3NGc1c5qRcn",
        "outputId": "8c6f711b-bca2-4174-da6d-308972076e39"
      },
      "execution_count": 42,
      "outputs": [
        {
          "output_type": "stream",
          "name": "stdout",
          "text": [
            "Ford\n"
          ]
        }
      ]
    },
    {
      "cell_type": "code",
      "source": [
        "#dict funtion creates keys for us\n",
        "thisdict=dict(name= \"john\", age = 34, country = \"England\")\n",
        "print(thisdict)"
      ],
      "metadata": {
        "colab": {
          "base_uri": "https://localhost:8080/"
        },
        "id": "5aW1jQ5Fq5rE",
        "outputId": "cfc6ddab-a00f-4219-a807-5b29c3a35044"
      },
      "execution_count": 43,
      "outputs": [
        {
          "output_type": "stream",
          "name": "stdout",
          "text": [
            "{'name': 'john', 'age': 34, 'country': 'England'}\n"
          ]
        }
      ]
    },
    {
      "cell_type": "code",
      "source": [
        "#Asci code value of S is 83 by default and so, we replace it with 80 with is P\n",
        "temp_dict={83:80}\n",
        "temp_str=\"Hello Sam!\"\n",
        "temp_str.translate(temp_dict)"
      ],
      "metadata": {
        "colab": {
          "base_uri": "https://localhost:8080/",
          "height": 35
        },
        "id": "bPQkkP_7rv3E",
        "outputId": "734aed8b-fd44-49e7-b6f7-852e8b5a137f"
      },
      "execution_count": 44,
      "outputs": [
        {
          "output_type": "execute_result",
          "data": {
            "text/plain": [
              "'Hello Pam!'"
            ],
            "application/vnd.google.colaboratory.intrinsic+json": {
              "type": "string"
            }
          },
          "metadata": {},
          "execution_count": 44
        }
      ]
    },
    {
      "cell_type": "code",
      "source": [
        "#Convert everything to Uppercase\n",
        "temp_str = \"i could eat apple all days\"\n",
        "temp_str.upper()"
      ],
      "metadata": {
        "colab": {
          "base_uri": "https://localhost:8080/",
          "height": 35
        },
        "id": "dqqu4RRStwTP",
        "outputId": "efdf761e-c43e-4f46-afdf-2c2c4f457869"
      },
      "execution_count": 46,
      "outputs": [
        {
          "output_type": "execute_result",
          "data": {
            "text/plain": [
              "'I COULD EAT APPLE ALL DAYS'"
            ],
            "application/vnd.google.colaboratory.intrinsic+json": {
              "type": "string"
            }
          },
          "metadata": {},
          "execution_count": 46
        }
      ]
    },
    {
      "cell_type": "code",
      "source": [
        "#add more char to a string to add up to the specified number\n",
        "temp_str = \"i could eat apple all days, thats all i can say\"\n",
        "print(len(temp_str))\n",
        "print(temp_str.zfill(10))\n",
        "print(temp_str.zfill(50))"
      ],
      "metadata": {
        "colab": {
          "base_uri": "https://localhost:8080/"
        },
        "id": "Ji1asQR9uP5R",
        "outputId": "069735c2-baf5-452c-c1fb-1453841f2e84"
      },
      "execution_count": 48,
      "outputs": [
        {
          "output_type": "stream",
          "name": "stdout",
          "text": [
            "47\n",
            "i could eat apple all days, thats all i can say\n",
            "000i could eat apple all days, thats all i can say\n"
          ]
        }
      ]
    }
  ]
}