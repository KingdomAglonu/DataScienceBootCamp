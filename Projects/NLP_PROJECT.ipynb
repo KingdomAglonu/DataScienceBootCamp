{
  "nbformat": 4,
  "nbformat_minor": 0,
  "metadata": {
    "colab": {
      "provenance": []
    },
    "kernelspec": {
      "name": "python3",
      "display_name": "Python 3"
    },
    "language_info": {
      "name": "python"
    }
  },
  "cells": [
    {
      "cell_type": "code",
      "source": [
        "import numpy as np\n",
        "import pandas as pd"
      ],
      "metadata": {
        "id": "4sP8L7JQCMlZ"
      },
      "execution_count": null,
      "outputs": []
    },
    {
      "cell_type": "code",
      "execution_count": null,
      "metadata": {
        "id": "9fG-TGMx-vGu"
      },
      "outputs": [],
      "source": [
        "from google.colab import drive"
      ]
    },
    {
      "cell_type": "code",
      "source": [
        "drive.mount('/content/gdrive')"
      ],
      "metadata": {
        "colab": {
          "base_uri": "https://localhost:8080/"
        },
        "id": "vmbL6soNB64d",
        "outputId": "2720a60c-6598-4564-a2c0-2d733e2963e8"
      },
      "execution_count": null,
      "outputs": [
        {
          "output_type": "stream",
          "name": "stdout",
          "text": [
            "Mounted at /content/gdrive\n"
          ]
        }
      ]
    },
    {
      "cell_type": "code",
      "source": [
        "df = pd.read_csv('/content/gdrive/MyDrive/Hotel_Reviews.csv')\n",
        "df.head()"
      ],
      "metadata": {
        "colab": {
          "base_uri": "https://localhost:8080/",
          "height": 695
        },
        "id": "o1ROf6oSCGzo",
        "outputId": "501e8909-ca21-4bd0-c3bb-6b67e6d5f1a5"
      },
      "execution_count": null,
      "outputs": [
        {
          "output_type": "execute_result",
          "data": {
            "text/plain": [
              "                                       Hotel_Address  \\\n",
              "0   s Gravesandestraat 55 Oost 1092 AA Amsterdam ...   \n",
              "1   s Gravesandestraat 55 Oost 1092 AA Amsterdam ...   \n",
              "2   s Gravesandestraat 55 Oost 1092 AA Amsterdam ...   \n",
              "3   s Gravesandestraat 55 Oost 1092 AA Amsterdam ...   \n",
              "4   s Gravesandestraat 55 Oost 1092 AA Amsterdam ...   \n",
              "\n",
              "   Additional_Number_of_Scoring Review_Date  Average_Score   Hotel_Name  \\\n",
              "0                           194    8/3/2017            7.7  Hotel Arena   \n",
              "1                           194    8/3/2017            7.7  Hotel Arena   \n",
              "2                           194   7/31/2017            7.7  Hotel Arena   \n",
              "3                           194   7/31/2017            7.7  Hotel Arena   \n",
              "4                           194   7/24/2017            7.7  Hotel Arena   \n",
              "\n",
              "  Reviewer_Nationality                                    Negative_Review  \\\n",
              "0              Russia    I am so angry that i made this post available...   \n",
              "1             Ireland                                         No Negative   \n",
              "2           Australia    Rooms are nice but for elderly a bit difficul...   \n",
              "3      United Kingdom    My room was dirty and I was afraid to walk ba...   \n",
              "4         New Zealand    You When I booked with your company on line y...   \n",
              "\n",
              "   Review_Total_Negative_Word_Counts  Total_Number_of_Reviews  \\\n",
              "0                                397                     1403   \n",
              "1                                  0                     1403   \n",
              "2                                 42                     1403   \n",
              "3                                210                     1403   \n",
              "4                                140                     1403   \n",
              "\n",
              "                                     Positive_Review  \\\n",
              "0   Only the park outside of the hotel was beauti...   \n",
              "1   No real complaints the hotel was great great ...   \n",
              "2   Location was good and staff were ok It is cut...   \n",
              "3   Great location in nice surroundings the bar a...   \n",
              "4    Amazing location and building Romantic setting    \n",
              "\n",
              "   Review_Total_Positive_Word_Counts  \\\n",
              "0                                 11   \n",
              "1                                105   \n",
              "2                                 21   \n",
              "3                                 26   \n",
              "4                                  8   \n",
              "\n",
              "   Total_Number_of_Reviews_Reviewer_Has_Given  Reviewer_Score  \\\n",
              "0                                           7             2.9   \n",
              "1                                           7             7.5   \n",
              "2                                           9             7.1   \n",
              "3                                           1             3.8   \n",
              "4                                           3             6.7   \n",
              "\n",
              "                                                Tags days_since_review  \\\n",
              "0  [' Leisure trip ', ' Couple ', ' Duplex Double...            0 days   \n",
              "1  [' Leisure trip ', ' Couple ', ' Duplex Double...            0 days   \n",
              "2  [' Leisure trip ', ' Family with young childre...            3 days   \n",
              "3  [' Leisure trip ', ' Solo traveler ', ' Duplex...            3 days   \n",
              "4  [' Leisure trip ', ' Couple ', ' Suite ', ' St...           10 days   \n",
              "\n",
              "         lat       lng  \n",
              "0  52.360576  4.915968  \n",
              "1  52.360576  4.915968  \n",
              "2  52.360576  4.915968  \n",
              "3  52.360576  4.915968  \n",
              "4  52.360576  4.915968  "
            ],
            "text/html": [
              "\n",
              "  <div id=\"df-2bd25fe5-7dd6-4ea3-82c0-91e4ba4754c6\" class=\"colab-df-container\">\n",
              "    <div>\n",
              "<style scoped>\n",
              "    .dataframe tbody tr th:only-of-type {\n",
              "        vertical-align: middle;\n",
              "    }\n",
              "\n",
              "    .dataframe tbody tr th {\n",
              "        vertical-align: top;\n",
              "    }\n",
              "\n",
              "    .dataframe thead th {\n",
              "        text-align: right;\n",
              "    }\n",
              "</style>\n",
              "<table border=\"1\" class=\"dataframe\">\n",
              "  <thead>\n",
              "    <tr style=\"text-align: right;\">\n",
              "      <th></th>\n",
              "      <th>Hotel_Address</th>\n",
              "      <th>Additional_Number_of_Scoring</th>\n",
              "      <th>Review_Date</th>\n",
              "      <th>Average_Score</th>\n",
              "      <th>Hotel_Name</th>\n",
              "      <th>Reviewer_Nationality</th>\n",
              "      <th>Negative_Review</th>\n",
              "      <th>Review_Total_Negative_Word_Counts</th>\n",
              "      <th>Total_Number_of_Reviews</th>\n",
              "      <th>Positive_Review</th>\n",
              "      <th>Review_Total_Positive_Word_Counts</th>\n",
              "      <th>Total_Number_of_Reviews_Reviewer_Has_Given</th>\n",
              "      <th>Reviewer_Score</th>\n",
              "      <th>Tags</th>\n",
              "      <th>days_since_review</th>\n",
              "      <th>lat</th>\n",
              "      <th>lng</th>\n",
              "    </tr>\n",
              "  </thead>\n",
              "  <tbody>\n",
              "    <tr>\n",
              "      <th>0</th>\n",
              "      <td>s Gravesandestraat 55 Oost 1092 AA Amsterdam ...</td>\n",
              "      <td>194</td>\n",
              "      <td>8/3/2017</td>\n",
              "      <td>7.7</td>\n",
              "      <td>Hotel Arena</td>\n",
              "      <td>Russia</td>\n",
              "      <td>I am so angry that i made this post available...</td>\n",
              "      <td>397</td>\n",
              "      <td>1403</td>\n",
              "      <td>Only the park outside of the hotel was beauti...</td>\n",
              "      <td>11</td>\n",
              "      <td>7</td>\n",
              "      <td>2.9</td>\n",
              "      <td>[' Leisure trip ', ' Couple ', ' Duplex Double...</td>\n",
              "      <td>0 days</td>\n",
              "      <td>52.360576</td>\n",
              "      <td>4.915968</td>\n",
              "    </tr>\n",
              "    <tr>\n",
              "      <th>1</th>\n",
              "      <td>s Gravesandestraat 55 Oost 1092 AA Amsterdam ...</td>\n",
              "      <td>194</td>\n",
              "      <td>8/3/2017</td>\n",
              "      <td>7.7</td>\n",
              "      <td>Hotel Arena</td>\n",
              "      <td>Ireland</td>\n",
              "      <td>No Negative</td>\n",
              "      <td>0</td>\n",
              "      <td>1403</td>\n",
              "      <td>No real complaints the hotel was great great ...</td>\n",
              "      <td>105</td>\n",
              "      <td>7</td>\n",
              "      <td>7.5</td>\n",
              "      <td>[' Leisure trip ', ' Couple ', ' Duplex Double...</td>\n",
              "      <td>0 days</td>\n",
              "      <td>52.360576</td>\n",
              "      <td>4.915968</td>\n",
              "    </tr>\n",
              "    <tr>\n",
              "      <th>2</th>\n",
              "      <td>s Gravesandestraat 55 Oost 1092 AA Amsterdam ...</td>\n",
              "      <td>194</td>\n",
              "      <td>7/31/2017</td>\n",
              "      <td>7.7</td>\n",
              "      <td>Hotel Arena</td>\n",
              "      <td>Australia</td>\n",
              "      <td>Rooms are nice but for elderly a bit difficul...</td>\n",
              "      <td>42</td>\n",
              "      <td>1403</td>\n",
              "      <td>Location was good and staff were ok It is cut...</td>\n",
              "      <td>21</td>\n",
              "      <td>9</td>\n",
              "      <td>7.1</td>\n",
              "      <td>[' Leisure trip ', ' Family with young childre...</td>\n",
              "      <td>3 days</td>\n",
              "      <td>52.360576</td>\n",
              "      <td>4.915968</td>\n",
              "    </tr>\n",
              "    <tr>\n",
              "      <th>3</th>\n",
              "      <td>s Gravesandestraat 55 Oost 1092 AA Amsterdam ...</td>\n",
              "      <td>194</td>\n",
              "      <td>7/31/2017</td>\n",
              "      <td>7.7</td>\n",
              "      <td>Hotel Arena</td>\n",
              "      <td>United Kingdom</td>\n",
              "      <td>My room was dirty and I was afraid to walk ba...</td>\n",
              "      <td>210</td>\n",
              "      <td>1403</td>\n",
              "      <td>Great location in nice surroundings the bar a...</td>\n",
              "      <td>26</td>\n",
              "      <td>1</td>\n",
              "      <td>3.8</td>\n",
              "      <td>[' Leisure trip ', ' Solo traveler ', ' Duplex...</td>\n",
              "      <td>3 days</td>\n",
              "      <td>52.360576</td>\n",
              "      <td>4.915968</td>\n",
              "    </tr>\n",
              "    <tr>\n",
              "      <th>4</th>\n",
              "      <td>s Gravesandestraat 55 Oost 1092 AA Amsterdam ...</td>\n",
              "      <td>194</td>\n",
              "      <td>7/24/2017</td>\n",
              "      <td>7.7</td>\n",
              "      <td>Hotel Arena</td>\n",
              "      <td>New Zealand</td>\n",
              "      <td>You When I booked with your company on line y...</td>\n",
              "      <td>140</td>\n",
              "      <td>1403</td>\n",
              "      <td>Amazing location and building Romantic setting</td>\n",
              "      <td>8</td>\n",
              "      <td>3</td>\n",
              "      <td>6.7</td>\n",
              "      <td>[' Leisure trip ', ' Couple ', ' Suite ', ' St...</td>\n",
              "      <td>10 days</td>\n",
              "      <td>52.360576</td>\n",
              "      <td>4.915968</td>\n",
              "    </tr>\n",
              "  </tbody>\n",
              "</table>\n",
              "</div>\n",
              "    <div class=\"colab-df-buttons\">\n",
              "\n",
              "  <div class=\"colab-df-container\">\n",
              "    <button class=\"colab-df-convert\" onclick=\"convertToInteractive('df-2bd25fe5-7dd6-4ea3-82c0-91e4ba4754c6')\"\n",
              "            title=\"Convert this dataframe to an interactive table.\"\n",
              "            style=\"display:none;\">\n",
              "\n",
              "  <svg xmlns=\"http://www.w3.org/2000/svg\" height=\"24px\" viewBox=\"0 -960 960 960\">\n",
              "    <path d=\"M120-120v-720h720v720H120Zm60-500h600v-160H180v160Zm220 220h160v-160H400v160Zm0 220h160v-160H400v160ZM180-400h160v-160H180v160Zm440 0h160v-160H620v160ZM180-180h160v-160H180v160Zm440 0h160v-160H620v160Z\"/>\n",
              "  </svg>\n",
              "    </button>\n",
              "\n",
              "  <style>\n",
              "    .colab-df-container {\n",
              "      display:flex;\n",
              "      gap: 12px;\n",
              "    }\n",
              "\n",
              "    .colab-df-convert {\n",
              "      background-color: #E8F0FE;\n",
              "      border: none;\n",
              "      border-radius: 50%;\n",
              "      cursor: pointer;\n",
              "      display: none;\n",
              "      fill: #1967D2;\n",
              "      height: 32px;\n",
              "      padding: 0 0 0 0;\n",
              "      width: 32px;\n",
              "    }\n",
              "\n",
              "    .colab-df-convert:hover {\n",
              "      background-color: #E2EBFA;\n",
              "      box-shadow: 0px 1px 2px rgba(60, 64, 67, 0.3), 0px 1px 3px 1px rgba(60, 64, 67, 0.15);\n",
              "      fill: #174EA6;\n",
              "    }\n",
              "\n",
              "    .colab-df-buttons div {\n",
              "      margin-bottom: 4px;\n",
              "    }\n",
              "\n",
              "    [theme=dark] .colab-df-convert {\n",
              "      background-color: #3B4455;\n",
              "      fill: #D2E3FC;\n",
              "    }\n",
              "\n",
              "    [theme=dark] .colab-df-convert:hover {\n",
              "      background-color: #434B5C;\n",
              "      box-shadow: 0px 1px 3px 1px rgba(0, 0, 0, 0.15);\n",
              "      filter: drop-shadow(0px 1px 2px rgba(0, 0, 0, 0.3));\n",
              "      fill: #FFFFFF;\n",
              "    }\n",
              "  </style>\n",
              "\n",
              "    <script>\n",
              "      const buttonEl =\n",
              "        document.querySelector('#df-2bd25fe5-7dd6-4ea3-82c0-91e4ba4754c6 button.colab-df-convert');\n",
              "      buttonEl.style.display =\n",
              "        google.colab.kernel.accessAllowed ? 'block' : 'none';\n",
              "\n",
              "      async function convertToInteractive(key) {\n",
              "        const element = document.querySelector('#df-2bd25fe5-7dd6-4ea3-82c0-91e4ba4754c6');\n",
              "        const dataTable =\n",
              "          await google.colab.kernel.invokeFunction('convertToInteractive',\n",
              "                                                    [key], {});\n",
              "        if (!dataTable) return;\n",
              "\n",
              "        const docLinkHtml = 'Like what you see? Visit the ' +\n",
              "          '<a target=\"_blank\" href=https://colab.research.google.com/notebooks/data_table.ipynb>data table notebook</a>'\n",
              "          + ' to learn more about interactive tables.';\n",
              "        element.innerHTML = '';\n",
              "        dataTable['output_type'] = 'display_data';\n",
              "        await google.colab.output.renderOutput(dataTable, element);\n",
              "        const docLink = document.createElement('div');\n",
              "        docLink.innerHTML = docLinkHtml;\n",
              "        element.appendChild(docLink);\n",
              "      }\n",
              "    </script>\n",
              "  </div>\n",
              "\n",
              "\n",
              "<div id=\"df-0591c1c3-6a4e-4c7f-9d73-e2638f621276\">\n",
              "  <button class=\"colab-df-quickchart\" onclick=\"quickchart('df-0591c1c3-6a4e-4c7f-9d73-e2638f621276')\"\n",
              "            title=\"Suggest charts.\"\n",
              "            style=\"display:none;\">\n",
              "\n",
              "<svg xmlns=\"http://www.w3.org/2000/svg\" height=\"24px\"viewBox=\"0 0 24 24\"\n",
              "     width=\"24px\">\n",
              "    <g>\n",
              "        <path d=\"M19 3H5c-1.1 0-2 .9-2 2v14c0 1.1.9 2 2 2h14c1.1 0 2-.9 2-2V5c0-1.1-.9-2-2-2zM9 17H7v-7h2v7zm4 0h-2V7h2v10zm4 0h-2v-4h2v4z\"/>\n",
              "    </g>\n",
              "</svg>\n",
              "  </button>\n",
              "\n",
              "<style>\n",
              "  .colab-df-quickchart {\n",
              "      --bg-color: #E8F0FE;\n",
              "      --fill-color: #1967D2;\n",
              "      --hover-bg-color: #E2EBFA;\n",
              "      --hover-fill-color: #174EA6;\n",
              "      --disabled-fill-color: #AAA;\n",
              "      --disabled-bg-color: #DDD;\n",
              "  }\n",
              "\n",
              "  [theme=dark] .colab-df-quickchart {\n",
              "      --bg-color: #3B4455;\n",
              "      --fill-color: #D2E3FC;\n",
              "      --hover-bg-color: #434B5C;\n",
              "      --hover-fill-color: #FFFFFF;\n",
              "      --disabled-bg-color: #3B4455;\n",
              "      --disabled-fill-color: #666;\n",
              "  }\n",
              "\n",
              "  .colab-df-quickchart {\n",
              "    background-color: var(--bg-color);\n",
              "    border: none;\n",
              "    border-radius: 50%;\n",
              "    cursor: pointer;\n",
              "    display: none;\n",
              "    fill: var(--fill-color);\n",
              "    height: 32px;\n",
              "    padding: 0;\n",
              "    width: 32px;\n",
              "  }\n",
              "\n",
              "  .colab-df-quickchart:hover {\n",
              "    background-color: var(--hover-bg-color);\n",
              "    box-shadow: 0 1px 2px rgba(60, 64, 67, 0.3), 0 1px 3px 1px rgba(60, 64, 67, 0.15);\n",
              "    fill: var(--button-hover-fill-color);\n",
              "  }\n",
              "\n",
              "  .colab-df-quickchart-complete:disabled,\n",
              "  .colab-df-quickchart-complete:disabled:hover {\n",
              "    background-color: var(--disabled-bg-color);\n",
              "    fill: var(--disabled-fill-color);\n",
              "    box-shadow: none;\n",
              "  }\n",
              "\n",
              "  .colab-df-spinner {\n",
              "    border: 2px solid var(--fill-color);\n",
              "    border-color: transparent;\n",
              "    border-bottom-color: var(--fill-color);\n",
              "    animation:\n",
              "      spin 1s steps(1) infinite;\n",
              "  }\n",
              "\n",
              "  @keyframes spin {\n",
              "    0% {\n",
              "      border-color: transparent;\n",
              "      border-bottom-color: var(--fill-color);\n",
              "      border-left-color: var(--fill-color);\n",
              "    }\n",
              "    20% {\n",
              "      border-color: transparent;\n",
              "      border-left-color: var(--fill-color);\n",
              "      border-top-color: var(--fill-color);\n",
              "    }\n",
              "    30% {\n",
              "      border-color: transparent;\n",
              "      border-left-color: var(--fill-color);\n",
              "      border-top-color: var(--fill-color);\n",
              "      border-right-color: var(--fill-color);\n",
              "    }\n",
              "    40% {\n",
              "      border-color: transparent;\n",
              "      border-right-color: var(--fill-color);\n",
              "      border-top-color: var(--fill-color);\n",
              "    }\n",
              "    60% {\n",
              "      border-color: transparent;\n",
              "      border-right-color: var(--fill-color);\n",
              "    }\n",
              "    80% {\n",
              "      border-color: transparent;\n",
              "      border-right-color: var(--fill-color);\n",
              "      border-bottom-color: var(--fill-color);\n",
              "    }\n",
              "    90% {\n",
              "      border-color: transparent;\n",
              "      border-bottom-color: var(--fill-color);\n",
              "    }\n",
              "  }\n",
              "</style>\n",
              "\n",
              "  <script>\n",
              "    async function quickchart(key) {\n",
              "      const quickchartButtonEl =\n",
              "        document.querySelector('#' + key + ' button');\n",
              "      quickchartButtonEl.disabled = true;  // To prevent multiple clicks.\n",
              "      quickchartButtonEl.classList.add('colab-df-spinner');\n",
              "      try {\n",
              "        const charts = await google.colab.kernel.invokeFunction(\n",
              "            'suggestCharts', [key], {});\n",
              "      } catch (error) {\n",
              "        console.error('Error during call to suggestCharts:', error);\n",
              "      }\n",
              "      quickchartButtonEl.classList.remove('colab-df-spinner');\n",
              "      quickchartButtonEl.classList.add('colab-df-quickchart-complete');\n",
              "    }\n",
              "    (() => {\n",
              "      let quickchartButtonEl =\n",
              "        document.querySelector('#df-0591c1c3-6a4e-4c7f-9d73-e2638f621276 button');\n",
              "      quickchartButtonEl.style.display =\n",
              "        google.colab.kernel.accessAllowed ? 'block' : 'none';\n",
              "    })();\n",
              "  </script>\n",
              "</div>\n",
              "    </div>\n",
              "  </div>\n"
            ]
          },
          "metadata": {},
          "execution_count": 5
        }
      ]
    },
    {
      "cell_type": "code",
      "source": [],
      "metadata": {
        "colab": {
          "base_uri": "https://localhost:8080/"
        },
        "id": "LaPMGEf8vhsM",
        "outputId": "a4f7753a-7efc-46da-efce-174d29bce4fa"
      },
      "execution_count": null,
      "outputs": [
        {
          "output_type": "execute_result",
          "data": {
            "text/plain": [
              "<pandas.core.groupby.generic.DataFrameGroupBy object at 0x78cded71f010>"
            ]
          },
          "metadata": {},
          "execution_count": 17
        }
      ]
    },
    {
      "cell_type": "code",
      "source": [
        "df.columns"
      ],
      "metadata": {
        "id": "WXfz-5yFCALj"
      },
      "execution_count": null,
      "outputs": []
    },
    {
      "cell_type": "code",
      "source": [
        "df.shape"
      ],
      "metadata": {
        "colab": {
          "base_uri": "https://localhost:8080/"
        },
        "id": "-zkmprNIEJXM",
        "outputId": "76c46dba-3c74-4a73-c910-eccfc1a00698"
      },
      "execution_count": null,
      "outputs": [
        {
          "output_type": "execute_result",
          "data": {
            "text/plain": [
              "(515738, 17)"
            ]
          },
          "metadata": {},
          "execution_count": 7
        }
      ]
    },
    {
      "cell_type": "code",
      "source": [
        "df.isnull().sum()"
      ],
      "metadata": {
        "colab": {
          "base_uri": "https://localhost:8080/"
        },
        "id": "Ch7-G3qoFb3N",
        "outputId": "3c5c730a-ebe1-4095-afea-f08682ee3cf3"
      },
      "execution_count": null,
      "outputs": [
        {
          "output_type": "execute_result",
          "data": {
            "text/plain": [
              "Hotel_Address                                    0\n",
              "Additional_Number_of_Scoring                     0\n",
              "Review_Date                                      0\n",
              "Average_Score                                    0\n",
              "Hotel_Name                                       0\n",
              "Reviewer_Nationality                             0\n",
              "Negative_Review                                  0\n",
              "Review_Total_Negative_Word_Counts                0\n",
              "Total_Number_of_Reviews                          0\n",
              "Positive_Review                                  0\n",
              "Review_Total_Positive_Word_Counts                0\n",
              "Total_Number_of_Reviews_Reviewer_Has_Given       0\n",
              "Reviewer_Score                                   0\n",
              "Tags                                             0\n",
              "days_since_review                                0\n",
              "lat                                           3268\n",
              "lng                                           3268\n",
              "dtype: int64"
            ]
          },
          "metadata": {},
          "execution_count": 13
        }
      ]
    },
    {
      "cell_type": "code",
      "source": [
        "# 1) How many reviewers from each nation\n",
        "\n",
        "reviewer_counts = df['Reviewer_Nationality'].value_counts()\n",
        "print(reviewer_counts)\n"
      ],
      "metadata": {
        "colab": {
          "base_uri": "https://localhost:8080/"
        },
        "id": "m27aR2r1Fe9y",
        "outputId": "3aa6c878-abb9-4134-856d-5bd25c14227b"
      },
      "execution_count": null,
      "outputs": [
        {
          "output_type": "stream",
          "name": "stdout",
          "text": [
            " United Kingdom               245246\n",
            " United States of America      35437\n",
            " Australia                     21686\n",
            " Ireland                       14827\n",
            " United Arab Emirates          10235\n",
            "                               ...  \n",
            " Cape Verde                        1\n",
            " Northern Mariana Islands          1\n",
            " Tuvalu                            1\n",
            " Guinea                            1\n",
            " Palau                             1\n",
            "Name: Reviewer_Nationality, Length: 227, dtype: int64\n"
          ]
        }
      ]
    },
    {
      "cell_type": "code",
      "source": [
        "# a) Highest reviewers from which nationality\n",
        "\n",
        "highest_reviewer_nationality = reviewer_counts.idxmax()\n",
        "highest_reviewer_count = reviewer_counts.max()\n",
        "\n",
        "print(f\"The nationality with the highest number of reviewers is {highest_reviewer_nationality} with {highest_reviewer_count} reviewers.\")\n"
      ],
      "metadata": {
        "colab": {
          "base_uri": "https://localhost:8080/"
        },
        "id": "liErCs0WJxl3",
        "outputId": "67a8abe9-8dd1-4a0f-bd1f-e51f44fa2cf0"
      },
      "execution_count": null,
      "outputs": [
        {
          "output_type": "stream",
          "name": "stdout",
          "text": [
            "The nationality with the highest number of reviewers is  United Kingdom  with 245246 reviewers.\n"
          ]
        }
      ]
    },
    {
      "cell_type": "code",
      "source": [
        "# b) Lowest Reviewers from which nationality\n",
        "\n",
        "lowest_reviewer_nationality = reviewer_counts.idxmin()\n",
        "lowest_reviewer_count = reviewer_counts.min()\n",
        "\n",
        "print(f\"The nationality with the lowest number of reviewers is {lowest_reviewer_nationality} with {lowest_reviewer_count} reviewers.\")\n"
      ],
      "metadata": {
        "colab": {
          "base_uri": "https://localhost:8080/"
        },
        "id": "qqq2iICfLCOk",
        "outputId": "33bf3d78-1b4a-47af-e572-4f53903fb502"
      },
      "execution_count": null,
      "outputs": [
        {
          "output_type": "stream",
          "name": "stdout",
          "text": [
            "The nationality with the lowest number of reviewers is  Svalbard Jan Mayen  with 1 reviewers.\n"
          ]
        }
      ]
    },
    {
      "cell_type": "code",
      "source": [
        "#2) Property with best review_score overall and least score overall\n",
        "\n",
        "# Grouping by the property and calculating the average review score for each property\n",
        "average_scores = df.groupby('Hotel_Name')['Average_Score'].mean()\n",
        "\n",
        "# Finding the property with the best and least overall review score\n",
        "property_best_score = average_scores.idxmax()\n",
        "best_score = average_scores.max()\n",
        "\n",
        "property_least_score = average_scores.idxmin()\n",
        "least_score = average_scores.min()\n",
        "\n",
        "print(f\"The property with the best overall review score is '{property_best_score}' with an average score of {best_score}.\")\n",
        "print(f\"The property with the least overall review score is '{property_least_score}' with an average score of {least_score}.\")\n"
      ],
      "metadata": {
        "colab": {
          "base_uri": "https://localhost:8080/"
        },
        "id": "oTNIeyzyLaEF",
        "outputId": "1c5f1bcf-67de-4c31-969b-1d4a41ed3aa2"
      },
      "execution_count": null,
      "outputs": [
        {
          "output_type": "stream",
          "name": "stdout",
          "text": [
            "The property with the best overall review score is 'Ritz Paris' with an average score of 9.8.\n",
            "The property with the least overall review score is 'Hotel Liberty' with an average score of 5.2.\n"
          ]
        }
      ]
    },
    {
      "cell_type": "code",
      "source": [
        "# 3) Do a scatter plot to show all properties over lat and long\n",
        "\n",
        "import matplotlib.pyplot as plt\n",
        "\n",
        "# Extracting unique properties with their latitudes and longitudes\n",
        "unique_properties = df.drop_duplicates(subset='Hotel_Name')[['Hotel_Name', 'lat', 'lng']]\n",
        "\n",
        "plt.figure(figsize=(12, 8))\n",
        "plt.scatter(unique_properties['lng'], unique_properties['lat'], alpha=0.6, edgecolors='w', linewidth=0.5)\n",
        "plt.title('Scatter plot of properties over Latitude and Longitude')\n",
        "plt.xlabel('Longitude')\n",
        "plt.ylabel('Latitude')\n",
        "plt.grid(False)\n",
        "plt.show()\n"
      ],
      "metadata": {
        "colab": {
          "base_uri": "https://localhost:8080/",
          "height": 718
        },
        "id": "zd80nY9nLn1m",
        "outputId": "c7f54b84-bba0-4849-d983-b9559922bf22"
      },
      "execution_count": null,
      "outputs": [
        {
          "output_type": "display_data",
          "data": {
            "text/plain": [
              "<Figure size 1200x800 with 1 Axes>"
            ],
            "image/png": "[encoded data removed]"
          },
          "metadata": {}
        }
      ]
    },
    {
      "cell_type": "code",
      "source": [
        "# 4) Which property has highest reviews and lowest  in last 1 month of the dataset maximum date\n",
        "\n",
        "# Convert the 'Review_Date' column to datetime format\n",
        "df['Review_Date'] = pd.to_datetime(df['Review_Date'])\n",
        "\n",
        "# Determine the maximum date and the starting date for the last month\n",
        "max_date = df['Review_Date'].max()\n",
        "start_date_last_month = max_date - pd.DateOffset(months=1)\n",
        "\n",
        "# Filter reviews from the last month\n",
        "last_month_reviews = df[df['Review_Date'] > start_date_last_month]\n",
        "\n",
        "# Group by the property and count the number of reviews\n",
        "property_review_counts = last_month_reviews['Hotel_Name'].value_counts()\n",
        "\n",
        "# Properties with the highest and lowest number of reviews\n",
        "property_most_reviews = property_review_counts.idxmax()\n",
        "most_reviews_count = property_review_counts.max()\n",
        "\n",
        "property_least_reviews = property_review_counts.idxmin()\n",
        "least_reviews_count = property_review_counts.min()\n",
        "\n",
        "print(f\"Property with the most reviews: {property_most_reviews} with {most_reviews_count} reviews.\")\n",
        "print(f\"Property with the least reviews: {property_least_reviews} with {least_reviews_count} reviews.\")\n"
      ],
      "metadata": {
        "colab": {
          "base_uri": "https://localhost:8080/"
        },
        "id": "vk7-8RbTMLcu",
        "outputId": "4760bd35-751a-408d-84a1-5892e8ab80ec"
      },
      "execution_count": null,
      "outputs": [
        {
          "output_type": "stream",
          "name": "stdout",
          "text": [
            "Property with the most reviews: Park Plaza Westminster Bridge London with 189 reviews.\n",
            "Property with the least reviews: Monhotel Lounge SPA with 1 reviews.\n"
          ]
        }
      ]
    },
    {
      "cell_type": "code",
      "source": [
        "# Concatenate negative reviews and positive reviews together in a new column.\n",
        "# Cleaning to be done on the column\n",
        "\n",
        "df['combined_reviews'] = df['Negative_Review'].replace('No Negative', '') + ' ' + df['Positive_Review'].replace('No Positive', '')\n",
        "df = df[df['combined_reviews'].str.strip() != '']"
      ],
      "metadata": {
        "id": "LHh5LQnKTCHM"
      },
      "execution_count": null,
      "outputs": []
    },
    {
      "cell_type": "code",
      "source": [
        "# 1) Lower Case that column\n",
        "df['combined_reviews'] = df['combined_reviews'].str.lower()"
      ],
      "metadata": {
        "id": "mdIr6NQNTE51"
      },
      "execution_count": null,
      "outputs": []
    },
    {
      "cell_type": "code",
      "source": [
        "# 2) Remove stop words\n",
        "import nltk\n",
        "from nltk.corpus import stopwords\n",
        "\n",
        "nltk.download('stopwords')\n",
        "stop_words = set(stopwords.words('english'))\n",
        "df['combined_reviews'] = df['combined_reviews'].apply(lambda x: ' '.join([word for word in x.split() if word not in stop_words]))"
      ],
      "metadata": {
        "colab": {
          "base_uri": "https://localhost:8080/"
        },
        "id": "CVuAkuttTMqN",
        "outputId": "c11d43e5-f095-485b-f8c1-4c774ae45e72"
      },
      "execution_count": null,
      "outputs": [
        {
          "output_type": "stream",
          "name": "stderr",
          "text": [
            "[nltk_data] Downloading package stopwords to /root/nltk_data...\n",
            "[nltk_data]   Package stopwords is already up-to-date!\n"
          ]
        }
      ]
    },
    {
      "cell_type": "code",
      "source": [
        "# 3) Remove punctuations\n",
        "df['combined_reviews'] = df['combined_reviews'].str.replace('[^\\w\\s]', '')"
      ],
      "metadata": {
        "colab": {
          "base_uri": "https://localhost:8080/"
        },
        "id": "ObdrbX5ATO9o",
        "outputId": "e8291080-3dff-46d5-d958-2ca41525bad1"
      },
      "execution_count": null,
      "outputs": [
        {
          "output_type": "stream",
          "name": "stderr",
          "text": [
            "<ipython-input-13-03cef4ac01c4>:2: FutureWarning: The default value of regex will change from True to False in a future version.\n",
            "  df['combined_reviews'] = df['combined_reviews'].str.replace('[^\\w\\s]', '')\n"
          ]
        }
      ]
    },
    {
      "cell_type": "code",
      "source": [
        "# 4) Apply Lemmitization/Stemming (Check accuracy with both)\n",
        "\n",
        "from nltk.stem import WordNetLemmatizer, PorterStemmer\n",
        "\n",
        "nltk.download('wordnet')\n",
        "lemmatizer = WordNetLemmatizer()\n",
        "df['lemmatized_reviews'] = df['combined_reviews'].apply(lambda x: ' '.join([lemmatizer.lemmatize(word) for word in x.split()]))\n",
        "\n",
        "stemmer = PorterStemmer()\n",
        "df['stemmed_reviews'] = df['combined_reviews'].apply(lambda x: ' '.join([stemmer.stem(word) for word in x.split()]))"
      ],
      "metadata": {
        "colab": {
          "base_uri": "https://localhost:8080/"
        },
        "id": "o-a7hok1TcPS",
        "outputId": "7ab0163a-09e9-4d6d-d314-91f6d70f5adb"
      },
      "execution_count": null,
      "outputs": [
        {
          "output_type": "stream",
          "name": "stderr",
          "text": [
            "[nltk_data] Downloading package wordnet to /root/nltk_data...\n",
            "[nltk_data]   Package wordnet is already up-to-date!\n"
          ]
        }
      ]
    },
    {
      "cell_type": "code",
      "source": [
        "# 5) Apply TF-IDF and Count Vectorizer\n",
        "from sklearn.feature_extraction.text import TfidfVectorizer, CountVectorizer\n",
        "\n",
        "tfidf_vectorizer = TfidfVectorizer()\n",
        "X_tfidf_lemma = tfidf_vectorizer.fit_transform(df['lemmatized_reviews'])\n",
        "X_tfidf_stem = tfidf_vectorizer.fit_transform(df['stemmed_reviews'])\n",
        "\n",
        "count_vectorizer = CountVectorizer()\n",
        "X_count_lemma = count_vectorizer.fit_transform(df['lemmatized_reviews'])\n",
        "X_count_stem = count_vectorizer.fit_transform(df['stemmed_reviews'])"
      ],
      "metadata": {
        "id": "e398c_8vTgjW"
      },
      "execution_count": null,
      "outputs": []
    },
    {
      "cell_type": "code",
      "source": [
        "# 6) Convert Reviewer_Score to integer\n",
        "df['Reviewer_Score'] = df['Reviewer_Score'].round().astype(int)\n",
        "\n",
        "# Split data for each representation\n",
        "from sklearn.model_selection import train_test_split\n",
        "\n",
        "X_train_tfidf_lemma, X_test_tfidf_lemma, y_train_tfidf_lemma, y_test_tfidf_lemma = train_test_split(X_tfidf_lemma, df['Reviewer_Score'], test_size=0.2, random_state=42)\n",
        "X_train_tfidf_stem, X_test_tfidf_stem, y_train_tfidf_stem, y_test_tfidf_stem = train_test_split(X_tfidf_stem, df['Reviewer_Score'], test_size=0.2, random_state=42)\n",
        "X_train_count_lemma, X_test_count_lemma, y_train_count_lemma, y_test_count_lemma = train_test_split(X_count_lemma, df['Reviewer_Score'], test_size=0.2, random_state=42)\n",
        "X_train_count_stem, X_test_count_stem, y_train_count_stem, y_test_count_stem = train_test_split(X_count_stem, df['Reviewer_Score'], test_size=0.2, random_state=42)\n"
      ],
      "metadata": {
        "id": "eRelnfRnTle0"
      },
      "execution_count": null,
      "outputs": []
    },
    {
      "cell_type": "code",
      "source": [
        "# 7) Apply model\n",
        "from sklearn.linear_model import LogisticRegression\n",
        "from sklearn.metrics import accuracy_score\n",
        "\n",
        "lr = LogisticRegression(max_iter=1000)"
      ],
      "metadata": {
        "id": "vjQnOqoYRn1g"
      },
      "execution_count": null,
      "outputs": []
    },
    {
      "cell_type": "code",
      "source": [
        "# For Lemmatized with TF-IDF\n",
        "lr.fit(X_train_tfidf_lemma, y_train_tfidf_lemma)\n",
        "accuracy_tfidf_lemma = accuracy_score(y_test_tfidf_lemma, lr.predict(X_test_tfidf_lemma))"
      ],
      "metadata": {
        "id": "caonfcO2Ycxm"
      },
      "execution_count": null,
      "outputs": []
    },
    {
      "cell_type": "code",
      "source": [
        "# For Stemmed with TF-IDF\n",
        "lr.fit(X_train_tfidf_stem, y_train_tfidf_stem)\n",
        "accuracy_tfidf_stem = accuracy_score(y_test_tfidf_stem, lr.predict(X_test_tfidf_stem))"
      ],
      "metadata": {
        "id": "Z0fZw6mxYEmd"
      },
      "execution_count": null,
      "outputs": []
    },
    {
      "cell_type": "code",
      "source": [
        "# For Lemmatized with Count Vectorizer\n",
        "lr.fit(X_train_count_lemma, y_train_count_lemma)\n",
        "accuracy_count_lemma = accuracy_score(y_test_count_lemma, lr.predict(X_test_count_lemma))"
      ],
      "metadata": {
        "colab": {
          "base_uri": "https://localhost:8080/"
        },
        "id": "e0kF56ddYHRa",
        "outputId": "ffd113f7-2b7f-4e60-a1ae-548c5d6b873a"
      },
      "execution_count": null,
      "outputs": [
        {
          "output_type": "stream",
          "name": "stderr",
          "text": [
            "/usr/local/lib/python3.10/dist-packages/sklearn/linear_model/_logistic.py:458: ConvergenceWarning: lbfgs failed to converge (status=1):\n",
            "STOP: TOTAL NO. of ITERATIONS REACHED LIMIT.\n",
            "\n",
            "Increase the number of iterations (max_iter) or scale the data as shown in:\n",
            "    https://scikit-learn.org/stable/modules/preprocessing.html\n",
            "Please also refer to the documentation for alternative solver options:\n",
            "    https://scikit-learn.org/stable/modules/linear_model.html#logistic-regression\n",
            "  n_iter_i = _check_optimize_result(\n"
          ]
        }
      ]
    },
    {
      "cell_type": "code",
      "source": [
        "# For Stemmed with Count Vectorizer\n",
        "lr.fit(X_train_count_stem, y_train_count_stem)\n",
        "accuracy_count_stem = accuracy_score(y_test_count_stem, lr.predict(X_test_count_stem))"
      ],
      "metadata": {
        "colab": {
          "base_uri": "https://localhost:8080/"
        },
        "id": "MwvpjtX7YKBW",
        "outputId": "8c67a725-86b3-42d1-8e0f-5a1a5d2af770"
      },
      "execution_count": null,
      "outputs": [
        {
          "output_type": "stream",
          "name": "stderr",
          "text": [
            "/usr/local/lib/python3.10/dist-packages/sklearn/linear_model/_logistic.py:458: ConvergenceWarning: lbfgs failed to converge (status=1):\n",
            "STOP: TOTAL NO. of ITERATIONS REACHED LIMIT.\n",
            "\n",
            "Increase the number of iterations (max_iter) or scale the data as shown in:\n",
            "    https://scikit-learn.org/stable/modules/preprocessing.html\n",
            "Please also refer to the documentation for alternative solver options:\n",
            "    https://scikit-learn.org/stable/modules/linear_model.html#logistic-regression\n",
            "  n_iter_i = _check_optimize_result(\n"
          ]
        }
      ]
    },
    {
      "cell_type": "code",
      "source": [
        "#Accuracies\n",
        "accuracy_tfidf_lemma, accuracy_tfidf_stem, accuracy_count_lemma, accuracy_count_stem"
      ],
      "metadata": {
        "colab": {
          "base_uri": "https://localhost:8080/"
        },
        "id": "kw-IfrC6YPjm",
        "outputId": "1ac09e16-ec29-4950-bb23-4584d856380c"
      },
      "execution_count": null,
      "outputs": [
        {
          "output_type": "execute_result",
          "data": {
            "text/plain": [
              "(0.4536394307209059,\n",
              " 0.4551809051072246,\n",
              " 0.45295109939116607,\n",
              " 0.4529898786210106)"
            ]
          },
          "metadata": {},
          "execution_count": 23
        }
      ]
    }
  ]
}