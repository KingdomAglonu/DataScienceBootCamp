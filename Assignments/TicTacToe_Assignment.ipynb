{
  "nbformat": 4,
  "nbformat_minor": 0,
  "metadata": {
    "colab": {
      "provenance": []
    },
    "kernelspec": {
      "name": "python3",
      "display_name": "Python 3"
    },
    "language_info": {
      "name": "python"
    }
  },
  "cells": [
    {
      "cell_type": "code",
      "source": [
        "# Creating a tic-tac-toe game between computer and human\n",
        "# 1st user will enter his name\n",
        "# user wil choice X or O\n",
        "# randomly first turn will be decided\n",
        "# After each turn show Board with replaced Indexes by X or O\n",
        "# If no one wins and board is full say its a draw\n",
        "# Win conditions are horizontal match or vertical match or diagonal match\n",
        "# ask user if we wants to play again at end of game"
      ],
      "metadata": {
        "id": "fh0WV4Yf0_PM"
      },
      "execution_count": null,
      "outputs": []
    },
    {
      "cell_type": "code",
      "source": [
        "import random\n",
        "\n",
        "def display_board(board_list):\n",
        "    print(\" {} | {} | {} \".format(board_list[0],board_list[1],board_list[2]))\n",
        "    print(\"-----------\")\n",
        "    print(\" {} | {} | {} \".format(board_list[3],board_list[4],board_list[5]))\n",
        "    print(\"-----------\")\n",
        "    print(\" {} | {} | {} \".format(board_list[6],board_list[7],board_list[8]))\n",
        "\n",
        "def check_win(board, marker):\n",
        "    # Check rows, columns, and diagonals for a win\n",
        "    win_conditions = [(0, 1, 2), (3, 4, 5), (6, 7, 8),\n",
        "                      (0, 3, 6), (1, 4, 7), (2, 5, 8),\n",
        "                      (0, 4, 8), (2, 4, 6)]\n",
        "\n",
        "    for condition in win_conditions:\n",
        "        if board[condition[0]] == board[condition[1]] == board[condition[2]] == marker:\n",
        "            return True\n",
        "    return False\n",
        "\n",
        "def check_full(board):\n",
        "    return all([cell == 'X' or cell == 'O' for cell in board])\n",
        "\n",
        "def get_computer_move(board):\n",
        "    available_moves = [index for index, cell in enumerate(board) if cell != 'X' and cell != 'O']\n",
        "    return random.choice(available_moves)\n",
        "\n",
        "def tic_tac_toe():\n",
        "    board = [str(i) for i in range(1, 10)]\n",
        "    name = input(\"Enter your name: \")\n",
        "    marker = input(f\"{name}, choose X or O: \").upper()\n",
        "    computer_marker = 'O' if marker == 'X' else 'X'\n",
        "\n",
        "    turn = random.choice([name, 'Computer'])\n",
        "    print(f\"{turn} will go first.\")\n",
        "\n",
        "    while True:\n",
        "        display_board(board)\n",
        "        if turn == name:\n",
        "            move = int(input(\"Enter your move (1-9): \")) - 1\n",
        "        else:\n",
        "            print(\"Computer's turn\")\n",
        "            move = get_computer_move(board)\n",
        "\n",
        "        if board[move] == 'X' or board[move] == 'O':\n",
        "            print(\"Invalid move. Try again.\")\n",
        "            continue\n",
        "\n",
        "        board[move] = marker if turn == name else computer_marker\n",
        "\n",
        "        if check_win(board, marker if turn == name else computer_marker):\n",
        "            display_board(board)\n",
        "            print(f\"{turn} wins!\")\n",
        "            break\n",
        "\n",
        "        if check_full(board):\n",
        "            display_board(board)\n",
        "            print(\"It's a draw!\")\n",
        "            break\n",
        "\n",
        "        turn = 'Computer' if turn == name else name\n",
        "\n",
        "    play_again = input(\"Do you want to play again? (y/n): \")\n",
        "    if play_again.lower() == 'y':\n",
        "        tic_tac_toe()\n",
        "\n",
        "tic_tac_toe()\n"
      ],
      "metadata": {
        "colab": {
          "base_uri": "https://localhost:8080/"
        },
        "id": "jQCSekWOWd5t",
        "outputId": "9e0f3e57-4e8b-4657-e7d5-bfa228162e4a"
      },
      "execution_count": 2,
      "outputs": [
        {
          "name": "stdout",
          "output_type": "stream",
          "text": [
            "Enter your name: Kingdom Aglonu\n",
            "Kingdom Aglonu, choose X or O: X\n",
            "Kingdom Aglonu will go first.\n",
            " 1 | 2 | 3 \n",
            "-----------\n",
            " 4 | 5 | 6 \n",
            "-----------\n",
            " 7 | 8 | 9 \n",
            "Enter your move (1-9): 5\n",
            " 1 | 2 | 3 \n",
            "-----------\n",
            " 4 | X | 6 \n",
            "-----------\n",
            " 7 | 8 | 9 \n",
            "Computer's turn\n",
            " 1 | 2 | 3 \n",
            "-----------\n",
            " 4 | X | 6 \n",
            "-----------\n",
            " 7 | 8 | O \n",
            "Enter your move (1-9): 7\n",
            " 1 | 2 | 3 \n",
            "-----------\n",
            " 4 | X | 6 \n",
            "-----------\n",
            " X | 8 | O \n",
            "Computer's turn\n",
            " 1 | 2 | 3 \n",
            "-----------\n",
            " 4 | X | O \n",
            "-----------\n",
            " X | 8 | O \n",
            "Enter your move (1-9): 3\n",
            " 1 | 2 | X \n",
            "-----------\n",
            " 4 | X | O \n",
            "-----------\n",
            " X | 8 | O \n",
            "Kingdom Aglonu wins!\n",
            "Do you want to play again? (y/n): N\n"
          ]
        }
      ]
    }
  ]
}