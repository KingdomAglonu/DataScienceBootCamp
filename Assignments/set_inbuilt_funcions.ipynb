{
  "nbformat": 4,
  "nbformat_minor": 0,
  "metadata": {
    "colab": {
      "provenance": []
    },
    "kernelspec": {
      "name": "python3",
      "display_name": "Python 3"
    },
    "language_info": {
      "name": "python"
    }
  },
  "cells": [
    {
      "cell_type": "code",
      "source": [
        "a = {1,2,2,5,1,5,'a','b','c'}\n",
        "dir(a)"
      ],
      "metadata": {
        "colab": {
          "base_uri": "https://localhost:8080/"
        },
        "id": "em_qG39dlXAw",
        "outputId": "0664be87-998c-47cb-e2eb-d03a7e4e567b"
      },
      "execution_count": 1,
      "outputs": [
        {
          "output_type": "execute_result",
          "data": {
            "text/plain": [
              "['__and__',\n",
              " '__class__',\n",
              " '__class_getitem__',\n",
              " '__contains__',\n",
              " '__delattr__',\n",
              " '__dir__',\n",
              " '__doc__',\n",
              " '__eq__',\n",
              " '__format__',\n",
              " '__ge__',\n",
              " '__getattribute__',\n",
              " '__gt__',\n",
              " '__hash__',\n",
              " '__iand__',\n",
              " '__init__',\n",
              " '__init_subclass__',\n",
              " '__ior__',\n",
              " '__isub__',\n",
              " '__iter__',\n",
              " '__ixor__',\n",
              " '__le__',\n",
              " '__len__',\n",
              " '__lt__',\n",
              " '__ne__',\n",
              " '__new__',\n",
              " '__or__',\n",
              " '__rand__',\n",
              " '__reduce__',\n",
              " '__reduce_ex__',\n",
              " '__repr__',\n",
              " '__ror__',\n",
              " '__rsub__',\n",
              " '__rxor__',\n",
              " '__setattr__',\n",
              " '__sizeof__',\n",
              " '__str__',\n",
              " '__sub__',\n",
              " '__subclasshook__',\n",
              " '__xor__',\n",
              " 'add',\n",
              " 'clear',\n",
              " 'copy',\n",
              " 'difference',\n",
              " 'difference_update',\n",
              " 'discard',\n",
              " 'intersection',\n",
              " 'intersection_update',\n",
              " 'isdisjoint',\n",
              " 'issubset',\n",
              " 'issuperset',\n",
              " 'pop',\n",
              " 'remove',\n",
              " 'symmetric_difference',\n",
              " 'symmetric_difference_update',\n",
              " 'union',\n",
              " 'update']"
            ]
          },
          "metadata": {},
          "execution_count": 1
        }
      ]
    },
    {
      "cell_type": "code",
      "source": [
        "# add()\tAdds an element to the set.\n",
        "# If the element already exists, the add() method does not add the element.\n",
        "ice_cream = {\"vanilla\", \"strawberry\", \"chocolate\"}\n",
        "\n",
        "ice_cream.add(\"caramel\")#Adding already existing element but does not accept.\n",
        "\n",
        "print(ice_cream)"
      ],
      "metadata": {
        "colab": {
          "base_uri": "https://localhost:8080/"
        },
        "id": "jfCWzEALlrV4",
        "outputId": "8419f93a-50e3-4fbd-d1a3-b4bc99cb7e07"
      },
      "execution_count": 2,
      "outputs": [
        {
          "output_type": "stream",
          "name": "stdout",
          "text": [
            "{'tiger', 'lion', 'dog', 'cat'}\n"
          ]
        }
      ]
    },
    {
      "cell_type": "code",
      "source": [
        "ice_cream = {\"vanilla\", \"strawberry\", \"chocolate\"}\n",
        "\n",
        "ice_cream.add(\"vanilla\")#Adding already existing element but does not accept.\n",
        "\n",
        "print(ice_cream)"
      ],
      "metadata": {
        "id": "ir0Fepjq63L7"
      },
      "execution_count": null,
      "outputs": []
    },
    {
      "cell_type": "code",
      "source": [
        "# clear(). Remove all elements from the fruits set:\n",
        "ice_cream = {\"vanilla\", \"strawberry\", \"chocolate\"}\n",
        "\n",
        "ice_cream.clear()\n",
        "\n",
        "print(ice_cream)"
      ],
      "metadata": {
        "id": "4sa6mfFV7De0"
      },
      "execution_count": null,
      "outputs": []
    },
    {
      "cell_type": "code",
      "execution_count": 11,
      "metadata": {
        "colab": {
          "base_uri": "https://localhost:8080/"
        },
        "id": "F36uaDYmlN0K",
        "outputId": "c68f8caf-5d38-46a4-cad8-e0d2fdc1f230"
      },
      "outputs": [
        {
          "output_type": "stream",
          "name": "stdout",
          "text": [
            "{'vanilla', 'chocolate', 'strawberry'}\n"
          ]
        }
      ],
      "source": [
        "# copy()\tReturns a copy of the set\n",
        "ice_cream = {\"vanilla\", \"strawberry\", \"chocolate\"}\n",
        "\n",
        "x = ice_cream.copy()\n",
        "\n",
        "print(x)"
      ]
    },
    {
      "cell_type": "code",
      "source": [
        "#difference()\tReturns a set containing the difference between two or more sets.\n",
        "#The returned set contains items that exist only in the first set, and not in both sets.\n",
        "\n",
        "ice_cream = {\"vanilla\", \"strawberry\", \"chocolate\"}\n",
        "\n",
        "fruits ={\"banana\",\"strawberry\",\"apple\"}\n",
        "\n",
        "diff_set = ice_cream.difference(fruits)\n",
        "\n",
        "print(diff_set)"
      ],
      "metadata": {
        "colab": {
          "base_uri": "https://localhost:8080/"
        },
        "id": "Mz-Q3kqT9GDx",
        "outputId": "f401a6d6-e204-48e1-909a-5ecb0fd18355"
      },
      "execution_count": 17,
      "outputs": [
        {
          "output_type": "stream",
          "name": "stdout",
          "text": [
            "{'vanilla', 'chocolate'}\n"
          ]
        }
      ]
    },
    {
      "cell_type": "code",
      "source": [
        "#The difference_update() method removes the items that exist in both sets.\n",
        "#The difference_update() method is different from the difference() method, because the difference()\n",
        "#method returns a new set, without the unwanted items, and the difference_update() method removes the\n",
        "#unwanted items from the original set.\n",
        "\n",
        "x = {\"vanilla\", \"strawberry\", \"chocolate\"}\n",
        "\n",
        "y ={\"banana\",\"strawberry\",\"apple\"}\n",
        "x.difference_update(y)\n",
        "print(x)"
      ],
      "metadata": {
        "colab": {
          "base_uri": "https://localhost:8080/"
        },
        "id": "IPhWufLI-ZHp",
        "outputId": "05e4e254-74a4-44ef-a1ee-ff37d1e90fab"
      },
      "execution_count": 16,
      "outputs": [
        {
          "output_type": "stream",
          "name": "stdout",
          "text": [
            "{'vanilla', 'chocolate'}\n"
          ]
        }
      ]
    },
    {
      "cell_type": "code",
      "source": [
        "# The discard() method removes the specified item from the set.\n",
        "#This method is different from the remove() method, because the remove() method will raise\n",
        "#an error if the specified item does not exist, and the discard() method will not.\n",
        "\n",
        "fruits = {\"vanilla\", \"strawberry\", \"chocolate\"}\n",
        "fruits.discard(\"strawberry\")\n",
        "print(fruits)"
      ],
      "metadata": {
        "colab": {
          "base_uri": "https://localhost:8080/"
        },
        "id": "QX2Bnz55Aah8",
        "outputId": "0aad7b9c-7011-4d69-ceeb-ec1ae07a19d1"
      },
      "execution_count": 22,
      "outputs": [
        {
          "output_type": "stream",
          "name": "stdout",
          "text": [
            "{'vanilla', 'chocolate'}\n"
          ]
        }
      ]
    },
    {
      "cell_type": "code",
      "source": [
        "#The intersection() method returns a set that contains the similarity between two or more sets.\n",
        "\n",
        "# Meaning: The returned set contains only items that exist in both sets, or in all sets if the comparison is done with more than two sets.\n",
        "\n",
        "x = {\"vanilla\", \"strawberry\", \"apple\"}\n",
        "\n",
        "y ={\"banana\",\"strawberry\",\"apple\"}\n",
        "\n",
        "z = {\"microsoft\", \"apple\", \"google\"}\n",
        "\n",
        "a = x.intersection(y,z)\n",
        "print(a)"
      ],
      "metadata": {
        "colab": {
          "base_uri": "https://localhost:8080/"
        },
        "id": "NoLuyIwaB3SO",
        "outputId": "07236fec-24b5-4d68-b055-e0ebe866db31"
      },
      "execution_count": 23,
      "outputs": [
        {
          "output_type": "stream",
          "name": "stdout",
          "text": [
            "{'apple'}\n"
          ]
        }
      ]
    },
    {
      "cell_type": "code",
      "source": [
        "#The intersection_update() method removes the items that is not present in both sets\n",
        " #(or in all sets if the comparison is done between more than two sets).\n",
        "\n",
        "#The intersection_update() method is different from the intersection() method, because the\n",
        "#intersection() method returns a new set, without the unwanted items, and the intersection_update()\n",
        "#method removes the unwanted items from the original set.\n",
        "\n",
        "x = {\"vanilla\", \"strawberry\", \"apple\"}\n",
        "\n",
        "y ={\"banana\",\"strawberry\",\"apple\"}\n",
        "\n",
        "z = {\"microsoft\", \"apple\", \"google\"}\n",
        "\n",
        "x.intersection_update(y,z)\n",
        "print(x)"
      ],
      "metadata": {
        "colab": {
          "base_uri": "https://localhost:8080/"
        },
        "id": "OFa9Q7YyD7Cg",
        "outputId": "66d2dd9b-17df-4f2a-dbf0-2bb65f5e10d3"
      },
      "execution_count": 26,
      "outputs": [
        {
          "output_type": "stream",
          "name": "stdout",
          "text": [
            "{'apple'}\n"
          ]
        }
      ]
    },
    {
      "cell_type": "code",
      "source": [
        "#The isdisjoint() method returns True if none of the items are present in both sets, otherwise it returns False.\n",
        "\n",
        "x = {\"vanilla\", \"chocolate\", \"cherry\"}\n",
        "\n",
        "y ={\"banana\",\"strawberry\",\"apple\"}\n",
        "\n",
        "z = x.isdisjoint(y)\n",
        "print(z)"
      ],
      "metadata": {
        "colab": {
          "base_uri": "https://localhost:8080/"
        },
        "id": "BbNHu-s9GPhL",
        "outputId": "39db24e7-7299-4e05-8658-6670605c601b"
      },
      "execution_count": 29,
      "outputs": [
        {
          "output_type": "stream",
          "name": "stdout",
          "text": [
            "True\n"
          ]
        }
      ]
    },
    {
      "cell_type": "code",
      "source": [
        "x = {\"vanilla\", \"apple\", \"cherry\"} #apple is common in both set\n",
        "\n",
        "y ={\"banana\",\"strawberry\",\"apple\"}\n",
        "\n",
        "z = x.isdisjoint(y)\n",
        "print(z)"
      ],
      "metadata": {
        "colab": {
          "base_uri": "https://localhost:8080/"
        },
        "id": "QS0ySdU0JV2K",
        "outputId": "bc39e596-6160-4000-bd2e-7e993db785a6"
      },
      "execution_count": 30,
      "outputs": [
        {
          "output_type": "stream",
          "name": "stdout",
          "text": [
            "False\n"
          ]
        }
      ]
    },
    {
      "cell_type": "code",
      "source": [
        "# The issubset() method returns True if all items in the set exists in the specified set, otherwise it returns False.\n",
        "\n",
        "x = {\"vanilla\", \"apple\", \"cherry\"}\n",
        "\n",
        "y ={\"vanilla\",\"strawberry\",\"apple\",\"cherry\"}\n",
        "\n",
        "z = x.issubset(y)\n",
        "print(z)"
      ],
      "metadata": {
        "colab": {
          "base_uri": "https://localhost:8080/"
        },
        "id": "UBs27fxUJdAU",
        "outputId": "9627eebc-49f1-44a4-866e-65d573d7b9b3"
      },
      "execution_count": 32,
      "outputs": [
        {
          "output_type": "stream",
          "name": "stdout",
          "text": [
            "True\n"
          ]
        }
      ]
    },
    {
      "cell_type": "code",
      "source": [
        "#The issuperset() method returns True if all items in the specified set exists in the original set, otherwise it returns False.\n",
        "\n",
        "x = {\"vanilla\",\"strawberry\",\"apple\",\"cherry\"}\n",
        "\n",
        "y ={\"vanilla\", \"apple\", \"cherry\"}\n",
        "\n",
        "z = x.issuperset(y)\n",
        "print(z)"
      ],
      "metadata": {
        "colab": {
          "base_uri": "https://localhost:8080/"
        },
        "id": "dsT_6UtxHMgX",
        "outputId": "0050e7bd-7a04-4646-dbe7-afa7b2596954"
      },
      "execution_count": 34,
      "outputs": [
        {
          "output_type": "stream",
          "name": "stdout",
          "text": [
            "True\n"
          ]
        }
      ]
    },
    {
      "cell_type": "code",
      "source": [
        "#The pop() method removes a random item from the set.\n",
        "#This method returns the removed item.\n",
        "\n",
        "x = {\"vanilla\",\"strawberry\",\"apple\",\"cherry\"}\n",
        "\n",
        "x.pop()\n",
        "\n",
        "print(x)"
      ],
      "metadata": {
        "colab": {
          "base_uri": "https://localhost:8080/"
        },
        "id": "FLr3AUoYL9Ax",
        "outputId": "a13b7f6a-1d98-43c6-c5ca-4088a08eadde"
      },
      "execution_count": 36,
      "outputs": [
        {
          "output_type": "stream",
          "name": "stdout",
          "text": [
            "{'apple', 'cherry', 'strawberry'}\n"
          ]
        }
      ]
    },
    {
      "cell_type": "code",
      "source": [
        "# The remove() method removes the specified element from the set.\n",
        "\n",
        "#This method is different from the discard() method, because the remove()\n",
        "#method will raise an error if the specified item does not exist, and the discard() method will not.\n",
        "\n",
        "x = {\"apple\", \"banana\", \"cherry\"}\n",
        "\n",
        "x.remove(\"banana\")\n",
        "\n",
        "print(x)"
      ],
      "metadata": {
        "colab": {
          "base_uri": "https://localhost:8080/"
        },
        "id": "-ua9MHdkMuUP",
        "outputId": "b9ec3e3c-c58e-42cf-fec5-5e470ed8f79b"
      },
      "execution_count": 39,
      "outputs": [
        {
          "output_type": "stream",
          "name": "stdout",
          "text": [
            "{'cherry', 'apple'}\n"
          ]
        }
      ]
    },
    {
      "cell_type": "code",
      "source": [
        "x = {\"apple\", \"banana\", \"cherry\"}\n",
        "\n",
        "x.remove(\"strawberry\") #strawberry does not exist in set x so this prints error.\n",
        "\n",
        "print(x)"
      ],
      "metadata": {
        "id": "aQwTfTHnNy_R"
      },
      "execution_count": null,
      "outputs": []
    },
    {
      "cell_type": "code",
      "source": [
        "#The symmetric_difference() method returns a set that contains all items from both set, but not the items that are present in both sets.\n",
        "#Meaning: The returned set contains a mix of items that are not present in both sets.\n",
        "\n",
        "x = {\"apple\", \"chocolate\", \"cherry\"}\n",
        "y = {\"google\", \"microsoft\", \"apple\"}\n",
        "\n",
        "z = x.symmetric_difference(y)\n",
        "\n",
        "print(z)"
      ],
      "metadata": {
        "colab": {
          "base_uri": "https://localhost:8080/"
        },
        "id": "iQlRah6DOD8a",
        "outputId": "300e2e05-36df-43ad-b18a-5a07ecc88247"
      },
      "execution_count": 41,
      "outputs": [
        {
          "output_type": "stream",
          "name": "stdout",
          "text": [
            "{'google', 'cherry', 'chocolate', 'microsoft'}\n"
          ]
        }
      ]
    },
    {
      "cell_type": "code",
      "source": [
        "#The symmetric_difference_update() method updates the original set by removing items that are present in both sets,\n",
        "#and inserting the other items.\n",
        "\n",
        "x = {\"apple\", \"chocolate\", \"cherry\"}\n",
        "y = {\"google\", \"microsoft\", \"apple\"}\n",
        "\n",
        "x.symmetric_difference_update(y)\n",
        "\n",
        "print(x)"
      ],
      "metadata": {
        "colab": {
          "base_uri": "https://localhost:8080/"
        },
        "id": "scGFY2BZQPDS",
        "outputId": "20dd284d-fa50-40cb-f408-1731f77ebfc7"
      },
      "execution_count": 43,
      "outputs": [
        {
          "output_type": "stream",
          "name": "stdout",
          "text": [
            "{'google', 'chocolate', 'cherry', 'microsoft'}\n"
          ]
        }
      ]
    },
    {
      "cell_type": "code",
      "source": [
        "#The union() method returns a set that contains all items from the original set, and all items from the specified set(s).\n",
        "#If an item is present in more than one set, the result will contain only one appearance of this item.\n",
        "\n",
        "x = {\"apple\", \"chocolate\", \"cherry\"}\n",
        "y = {\"google\", \"microsoft\", \"apple\"} #apple is present in both sets so only one appears\n",
        "\n",
        "z = x.union(y)\n",
        "\n",
        "print(z)"
      ],
      "metadata": {
        "colab": {
          "base_uri": "https://localhost:8080/"
        },
        "id": "eKxPDz8PQ7OL",
        "outputId": "8de5fc24-3f9b-4f05-9b97-5388cef9d227"
      },
      "execution_count": 44,
      "outputs": [
        {
          "output_type": "stream",
          "name": "stdout",
          "text": [
            "{'google', 'cherry', 'chocolate', 'apple', 'microsoft'}\n"
          ]
        }
      ]
    },
    {
      "cell_type": "code",
      "source": [
        "# The update() method updates the current set, by adding items from another set (or any other iterable).\n",
        "#If an item is present in both sets, only one appearance of this item will be present in the updated set.\n",
        "\n",
        "x = {\"apple\", \"chocolate\", \"cherry\"}\n",
        "y = {\"google\", \"microsoft\", \"apple\"}\n",
        "\n",
        "x.update(y)\n",
        "\n",
        "print(x)"
      ],
      "metadata": {
        "colab": {
          "base_uri": "https://localhost:8080/"
        },
        "id": "rba-SJO-Ra4C",
        "outputId": "53b1cff8-1b2e-4dfd-f7f5-55cec828bcdd"
      },
      "execution_count": 46,
      "outputs": [
        {
          "output_type": "stream",
          "name": "stdout",
          "text": [
            "{'google', 'cherry', 'chocolate', 'apple', 'microsoft'}\n"
          ]
        }
      ]
    }
  ]
}