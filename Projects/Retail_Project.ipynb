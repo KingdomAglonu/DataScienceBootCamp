{
  "nbformat": 4,
  "nbformat_minor": 0,
  "metadata": {
    "colab": {
      "provenance": []
    },
    "kernelspec": {
      "name": "python3",
      "display_name": "Python 3"
    },
    "language_info": {
      "name": "python"
    }
  },
  "cells": [
    {
      "cell_type": "code",
      "execution_count": 2,
      "metadata": {
        "id": "M2UkuQRNmp0h"
      },
      "outputs": [],
      "source": [
        "import pandas as pd\n",
        "import numpy as np"
      ]
    },
    {
      "cell_type": "code",
      "source": [
        "path = '/Online_Retail.csv'\n",
        "df = pd.read_csv(path, encoding = 'windows-1254')\n",
        "df"
      ],
      "metadata": {
        "colab": {
          "base_uri": "https://localhost:8080/",
          "height": 597
        },
        "id": "JVgaet8RmtRX",
        "outputId": "d691a67c-9efe-4b97-d4cb-a0f228373322"
      },
      "execution_count": 10,
      "outputs": [
        {
          "output_type": "execute_result",
          "data": {
            "text/plain": [
              "       InvoiceNo StockCode                          Description  Quantity  \\\n",
              "0         536365    85123A   WHITE HANGING HEART T-LIGHT HOLDER         6   \n",
              "1         536365     71053                  WHITE METAL LANTERN         6   \n",
              "2         536365    84406B       CREAM CUPID HEARTS COAT HANGER         8   \n",
              "3         536365    84029G  KNITTED UNION FLAG HOT WATER BOTTLE         6   \n",
              "4         536365    84029E       RED WOOLLY HOTTIE WHITE HEART.         6   \n",
              "...          ...       ...                                  ...       ...   \n",
              "541904    581587     22613          PACK OF 20 SPACEBOY NAPKINS        12   \n",
              "541905    581587     22899         CHILDREN'S APRON DOLLY GIRL          6   \n",
              "541906    581587     23254        CHILDRENS CUTLERY DOLLY GIRL          4   \n",
              "541907    581587     23255      CHILDRENS CUTLERY CIRCUS PARADE         4   \n",
              "541908    581587     22138        BAKING SET 9 PIECE RETROSPOT          3   \n",
              "\n",
              "          InvoiceDate  UnitPrice  CustomerID         Country  \n",
              "0        12/1/10 8:26       2.55     17850.0  United Kingdom  \n",
              "1        12/1/10 8:26       3.39     17850.0  United Kingdom  \n",
              "2        12/1/10 8:26       2.75     17850.0  United Kingdom  \n",
              "3        12/1/10 8:26       3.39     17850.0  United Kingdom  \n",
              "4        12/1/10 8:26       3.39     17850.0  United Kingdom  \n",
              "...               ...        ...         ...             ...  \n",
              "541904  12/9/11 12:50       0.85     12680.0          France  \n",
              "541905  12/9/11 12:50       2.10     12680.0          France  \n",
              "541906  12/9/11 12:50       4.15     12680.0          France  \n",
              "541907  12/9/11 12:50       4.15     12680.0          France  \n",
              "541908  12/9/11 12:50       4.95     12680.0          France  \n",
              "\n",
              "[541909 rows x 8 columns]"
            ],
            "text/html": [
              "\n",
              "  <div id=\"df-9ef73902-6c15-4f05-876d-a14f4662dc77\" class=\"colab-df-container\">\n",
              "    <div>\n",
              "<style scoped>\n",
              "    .dataframe tbody tr th:only-of-type {\n",
              "        vertical-align: middle;\n",
              "    }\n",
              "\n",
              "    .dataframe tbody tr th {\n",
              "        vertical-align: top;\n",
              "    }\n",
              "\n",
              "    .dataframe thead th {\n",
              "        text-align: right;\n",
              "    }\n",
              "</style>\n",
              "<table border=\"1\" class=\"dataframe\">\n",
              "  <thead>\n",
              "    <tr style=\"text-align: right;\">\n",
              "      <th></th>\n",
              "      <th>InvoiceNo</th>\n",
              "      <th>StockCode</th>\n",
              "      <th>Description</th>\n",
              "      <th>Quantity</th>\n",
              "      <th>InvoiceDate</th>\n",
              "      <th>UnitPrice</th>\n",
              "      <th>CustomerID</th>\n",
              "      <th>Country</th>\n",
              "    </tr>\n",
              "  </thead>\n",
              "  <tbody>\n",
              "    <tr>\n",
              "      <th>0</th>\n",
              "      <td>536365</td>\n",
              "      <td>85123A</td>\n",
              "      <td>WHITE HANGING HEART T-LIGHT HOLDER</td>\n",
              "      <td>6</td>\n",
              "      <td>12/1/10 8:26</td>\n",
              "      <td>2.55</td>\n",
              "      <td>17850.0</td>\n",
              "      <td>United Kingdom</td>\n",
              "    </tr>\n",
              "    <tr>\n",
              "      <th>1</th>\n",
              "      <td>536365</td>\n",
              "      <td>71053</td>\n",
              "      <td>WHITE METAL LANTERN</td>\n",
              "      <td>6</td>\n",
              "      <td>12/1/10 8:26</td>\n",
              "      <td>3.39</td>\n",
              "      <td>17850.0</td>\n",
              "      <td>United Kingdom</td>\n",
              "    </tr>\n",
              "    <tr>\n",
              "      <th>2</th>\n",
              "      <td>536365</td>\n",
              "      <td>84406B</td>\n",
              "      <td>CREAM CUPID HEARTS COAT HANGER</td>\n",
              "      <td>8</td>\n",
              "      <td>12/1/10 8:26</td>\n",
              "      <td>2.75</td>\n",
              "      <td>17850.0</td>\n",
              "      <td>United Kingdom</td>\n",
              "    </tr>\n",
              "    <tr>\n",
              "      <th>3</th>\n",
              "      <td>536365</td>\n",
              "      <td>84029G</td>\n",
              "      <td>KNITTED UNION FLAG HOT WATER BOTTLE</td>\n",
              "      <td>6</td>\n",
              "      <td>12/1/10 8:26</td>\n",
              "      <td>3.39</td>\n",
              "      <td>17850.0</td>\n",
              "      <td>United Kingdom</td>\n",
              "    </tr>\n",
              "    <tr>\n",
              "      <th>4</th>\n",
              "      <td>536365</td>\n",
              "      <td>84029E</td>\n",
              "      <td>RED WOOLLY HOTTIE WHITE HEART.</td>\n",
              "      <td>6</td>\n",
              "      <td>12/1/10 8:26</td>\n",
              "      <td>3.39</td>\n",
              "      <td>17850.0</td>\n",
              "      <td>United Kingdom</td>\n",
              "    </tr>\n",
              "    <tr>\n",
              "      <th>...</th>\n",
              "      <td>...</td>\n",
              "      <td>...</td>\n",
              "      <td>...</td>\n",
              "      <td>...</td>\n",
              "      <td>...</td>\n",
              "      <td>...</td>\n",
              "      <td>...</td>\n",
              "      <td>...</td>\n",
              "    </tr>\n",
              "    <tr>\n",
              "      <th>541904</th>\n",
              "      <td>581587</td>\n",
              "      <td>22613</td>\n",
              "      <td>PACK OF 20 SPACEBOY NAPKINS</td>\n",
              "      <td>12</td>\n",
              "      <td>12/9/11 12:50</td>\n",
              "      <td>0.85</td>\n",
              "      <td>12680.0</td>\n",
              "      <td>France</td>\n",
              "    </tr>\n",
              "    <tr>\n",
              "      <th>541905</th>\n",
              "      <td>581587</td>\n",
              "      <td>22899</td>\n",
              "      <td>CHILDREN'S APRON DOLLY GIRL</td>\n",
              "      <td>6</td>\n",
              "      <td>12/9/11 12:50</td>\n",
              "      <td>2.10</td>\n",
              "      <td>12680.0</td>\n",
              "      <td>France</td>\n",
              "    </tr>\n",
              "    <tr>\n",
              "      <th>541906</th>\n",
              "      <td>581587</td>\n",
              "      <td>23254</td>\n",
              "      <td>CHILDRENS CUTLERY DOLLY GIRL</td>\n",
              "      <td>4</td>\n",
              "      <td>12/9/11 12:50</td>\n",
              "      <td>4.15</td>\n",
              "      <td>12680.0</td>\n",
              "      <td>France</td>\n",
              "    </tr>\n",
              "    <tr>\n",
              "      <th>541907</th>\n",
              "      <td>581587</td>\n",
              "      <td>23255</td>\n",
              "      <td>CHILDRENS CUTLERY CIRCUS PARADE</td>\n",
              "      <td>4</td>\n",
              "      <td>12/9/11 12:50</td>\n",
              "      <td>4.15</td>\n",
              "      <td>12680.0</td>\n",
              "      <td>France</td>\n",
              "    </tr>\n",
              "    <tr>\n",
              "      <th>541908</th>\n",
              "      <td>581587</td>\n",
              "      <td>22138</td>\n",
              "      <td>BAKING SET 9 PIECE RETROSPOT</td>\n",
              "      <td>3</td>\n",
              "      <td>12/9/11 12:50</td>\n",
              "      <td>4.95</td>\n",
              "      <td>12680.0</td>\n",
              "      <td>France</td>\n",
              "    </tr>\n",
              "  </tbody>\n",
              "</table>\n",
              "<p>541909 rows × 8 columns</p>\n",
              "</div>\n",
              "    <div class=\"colab-df-buttons\">\n",
              "\n",
              "  <div class=\"colab-df-container\">\n",
              "    <button class=\"colab-df-convert\" onclick=\"convertToInteractive('df-9ef73902-6c15-4f05-876d-a14f4662dc77')\"\n",
              "            title=\"Convert this dataframe to an interactive table.\"\n",
              "            style=\"display:none;\">\n",
              "\n",
              "  <svg xmlns=\"http://www.w3.org/2000/svg\" height=\"24px\" viewBox=\"0 -960 960 960\">\n",
              "    <path d=\"M120-120v-720h720v720H120Zm60-500h600v-160H180v160Zm220 220h160v-160H400v160Zm0 220h160v-160H400v160ZM180-400h160v-160H180v160Zm440 0h160v-160H620v160ZM180-180h160v-160H180v160Zm440 0h160v-160H620v160Z\"/>\n",
              "  </svg>\n",
              "    </button>\n",
              "\n",
              "  <style>\n",
              "    .colab-df-container {\n",
              "      display:flex;\n",
              "      gap: 12px;\n",
              "    }\n",
              "\n",
              "    .colab-df-convert {\n",
              "      background-color: #E8F0FE;\n",
              "      border: none;\n",
              "      border-radius: 50%;\n",
              "      cursor: pointer;\n",
              "      display: none;\n",
              "      fill: #1967D2;\n",
              "      height: 32px;\n",
              "      padding: 0 0 0 0;\n",
              "      width: 32px;\n",
              "    }\n",
              "\n",
              "    .colab-df-convert:hover {\n",
              "      background-color: #E2EBFA;\n",
              "      box-shadow: 0px 1px 2px rgba(60, 64, 67, 0.3), 0px 1px 3px 1px rgba(60, 64, 67, 0.15);\n",
              "      fill: #174EA6;\n",
              "    }\n",
              "\n",
              "    .colab-df-buttons div {\n",
              "      margin-bottom: 4px;\n",
              "    }\n",
              "\n",
              "    [theme=dark] .colab-df-convert {\n",
              "      background-color: #3B4455;\n",
              "      fill: #D2E3FC;\n",
              "    }\n",
              "\n",
              "    [theme=dark] .colab-df-convert:hover {\n",
              "      background-color: #434B5C;\n",
              "      box-shadow: 0px 1px 3px 1px rgba(0, 0, 0, 0.15);\n",
              "      filter: drop-shadow(0px 1px 2px rgba(0, 0, 0, 0.3));\n",
              "      fill: #FFFFFF;\n",
              "    }\n",
              "  </style>\n",
              "\n",
              "    <script>\n",
              "      const buttonEl =\n",
              "        document.querySelector('#df-9ef73902-6c15-4f05-876d-a14f4662dc77 button.colab-df-convert');\n",
              "      buttonEl.style.display =\n",
              "        google.colab.kernel.accessAllowed ? 'block' : 'none';\n",
              "\n",
              "      async function convertToInteractive(key) {\n",
              "        const element = document.querySelector('#df-9ef73902-6c15-4f05-876d-a14f4662dc77');\n",
              "        const dataTable =\n",
              "          await google.colab.kernel.invokeFunction('convertToInteractive',\n",
              "                                                    [key], {});\n",
              "        if (!dataTable) return;\n",
              "\n",
              "        const docLinkHtml = 'Like what you see? Visit the ' +\n",
              "          '<a target=\"_blank\" href=https://colab.research.google.com/notebooks/data_table.ipynb>data table notebook</a>'\n",
              "          + ' to learn more about interactive tables.';\n",
              "        element.innerHTML = '';\n",
              "        dataTable['output_type'] = 'display_data';\n",
              "        await google.colab.output.renderOutput(dataTable, element);\n",
              "        const docLink = document.createElement('div');\n",
              "        docLink.innerHTML = docLinkHtml;\n",
              "        element.appendChild(docLink);\n",
              "      }\n",
              "    </script>\n",
              "  </div>\n",
              "\n",
              "\n",
              "<div id=\"df-1a104736-75ae-4348-b66b-e6295672b9f1\">\n",
              "  <button class=\"colab-df-quickchart\" onclick=\"quickchart('df-1a104736-75ae-4348-b66b-e6295672b9f1')\"\n",
              "            title=\"Suggest charts.\"\n",
              "            style=\"display:none;\">\n",
              "\n",
              "<svg xmlns=\"http://www.w3.org/2000/svg\" height=\"24px\"viewBox=\"0 0 24 24\"\n",
              "     width=\"24px\">\n",
              "    <g>\n",
              "        <path d=\"M19 3H5c-1.1 0-2 .9-2 2v14c0 1.1.9 2 2 2h14c1.1 0 2-.9 2-2V5c0-1.1-.9-2-2-2zM9 17H7v-7h2v7zm4 0h-2V7h2v10zm4 0h-2v-4h2v4z\"/>\n",
              "    </g>\n",
              "</svg>\n",
              "  </button>\n",
              "\n",
              "<style>\n",
              "  .colab-df-quickchart {\n",
              "      --bg-color: #E8F0FE;\n",
              "      --fill-color: #1967D2;\n",
              "      --hover-bg-color: #E2EBFA;\n",
              "      --hover-fill-color: #174EA6;\n",
              "      --disabled-fill-color: #AAA;\n",
              "      --disabled-bg-color: #DDD;\n",
              "  }\n",
              "\n",
              "  [theme=dark] .colab-df-quickchart {\n",
              "      --bg-color: #3B4455;\n",
              "      --fill-color: #D2E3FC;\n",
              "      --hover-bg-color: #434B5C;\n",
              "      --hover-fill-color: #FFFFFF;\n",
              "      --disabled-bg-color: #3B4455;\n",
              "      --disabled-fill-color: #666;\n",
              "  }\n",
              "\n",
              "  .colab-df-quickchart {\n",
              "    background-color: var(--bg-color);\n",
              "    border: none;\n",
              "    border-radius: 50%;\n",
              "    cursor: pointer;\n",
              "    display: none;\n",
              "    fill: var(--fill-color);\n",
              "    height: 32px;\n",
              "    padding: 0;\n",
              "    width: 32px;\n",
              "  }\n",
              "\n",
              "  .colab-df-quickchart:hover {\n",
              "    background-color: var(--hover-bg-color);\n",
              "    box-shadow: 0 1px 2px rgba(60, 64, 67, 0.3), 0 1px 3px 1px rgba(60, 64, 67, 0.15);\n",
              "    fill: var(--button-hover-fill-color);\n",
              "  }\n",
              "\n",
              "  .colab-df-quickchart-complete:disabled,\n",
              "  .colab-df-quickchart-complete:disabled:hover {\n",
              "    background-color: var(--disabled-bg-color);\n",
              "    fill: var(--disabled-fill-color);\n",
              "    box-shadow: none;\n",
              "  }\n",
              "\n",
              "  .colab-df-spinner {\n",
              "    border: 2px solid var(--fill-color);\n",
              "    border-color: transparent;\n",
              "    border-bottom-color: var(--fill-color);\n",
              "    animation:\n",
              "      spin 1s steps(1) infinite;\n",
              "  }\n",
              "\n",
              "  @keyframes spin {\n",
              "    0% {\n",
              "      border-color: transparent;\n",
              "      border-bottom-color: var(--fill-color);\n",
              "      border-left-color: var(--fill-color);\n",
              "    }\n",
              "    20% {\n",
              "      border-color: transparent;\n",
              "      border-left-color: var(--fill-color);\n",
              "      border-top-color: var(--fill-color);\n",
              "    }\n",
              "    30% {\n",
              "      border-color: transparent;\n",
              "      border-left-color: var(--fill-color);\n",
              "      border-top-color: var(--fill-color);\n",
              "      border-right-color: var(--fill-color);\n",
              "    }\n",
              "    40% {\n",
              "      border-color: transparent;\n",
              "      border-right-color: var(--fill-color);\n",
              "      border-top-color: var(--fill-color);\n",
              "    }\n",
              "    60% {\n",
              "      border-color: transparent;\n",
              "      border-right-color: var(--fill-color);\n",
              "    }\n",
              "    80% {\n",
              "      border-color: transparent;\n",
              "      border-right-color: var(--fill-color);\n",
              "      border-bottom-color: var(--fill-color);\n",
              "    }\n",
              "    90% {\n",
              "      border-color: transparent;\n",
              "      border-bottom-color: var(--fill-color);\n",
              "    }\n",
              "  }\n",
              "</style>\n",
              "\n",
              "  <script>\n",
              "    async function quickchart(key) {\n",
              "      const quickchartButtonEl =\n",
              "        document.querySelector('#' + key + ' button');\n",
              "      quickchartButtonEl.disabled = true;  // To prevent multiple clicks.\n",
              "      quickchartButtonEl.classList.add('colab-df-spinner');\n",
              "      try {\n",
              "        const charts = await google.colab.kernel.invokeFunction(\n",
              "            'suggestCharts', [key], {});\n",
              "      } catch (error) {\n",
              "        console.error('Error during call to suggestCharts:', error);\n",
              "      }\n",
              "      quickchartButtonEl.classList.remove('colab-df-spinner');\n",
              "      quickchartButtonEl.classList.add('colab-df-quickchart-complete');\n",
              "    }\n",
              "    (() => {\n",
              "      let quickchartButtonEl =\n",
              "        document.querySelector('#df-1a104736-75ae-4348-b66b-e6295672b9f1 button');\n",
              "      quickchartButtonEl.style.display =\n",
              "        google.colab.kernel.accessAllowed ? 'block' : 'none';\n",
              "    })();\n",
              "  </script>\n",
              "</div>\n",
              "    </div>\n",
              "  </div>\n"
            ]
          },
          "metadata": {},
          "execution_count": 10
        }
      ]
    },
    {
      "cell_type": "code",
      "source": [
        "print(df.isnull().sum())"
      ],
      "metadata": {
        "id": "66GsZKnJnvKo"
      },
      "execution_count": null,
      "outputs": []
    },
    {
      "cell_type": "code",
      "source": [
        "df.drop_duplicates(inplace=True)"
      ],
      "metadata": {
        "id": "U-gi6FiBnwuO"
      },
      "execution_count": 5,
      "outputs": []
    },
    {
      "cell_type": "code",
      "source": [
        "df.dropna(inplace=True)"
      ],
      "metadata": {
        "id": "Dv_TWmTbnzqZ"
      },
      "execution_count": 6,
      "outputs": []
    },
    {
      "cell_type": "code",
      "source": [
        "df = df[df['Quantity'] > 0]"
      ],
      "metadata": {
        "id": "Jd1PJ0ajn5-G"
      },
      "execution_count": 7,
      "outputs": []
    },
    {
      "cell_type": "code",
      "source": [
        "#2) Create a Dictionary with the 10 countries that have the most 'Quantity' ordered except UK\n",
        "top_countries = df.groupby('Country').sum().sort_values(by='Quantity', ascending=False).drop('United Kingdom')\n",
        "\n",
        "top_10_countries = top_countries.head(10)['Quantity'].to_dict()\n",
        "print(top_10_countries)"
      ],
      "metadata": {
        "colab": {
          "base_uri": "https://localhost:8080/"
        },
        "id": "ipSm2I0kn-FE",
        "outputId": "579eaaf0-1bf6-4219-d192-cb43b1332ccf"
      },
      "execution_count": 8,
      "outputs": [
        {
          "output_type": "stream",
          "name": "stdout",
          "text": [
            "{'Netherlands': 200937, 'EIRE': 140383, 'Germany': 119156, 'France': 111429, 'Australia': 84199, 'Sweden': 36078, 'Switzerland': 30083, 'Spain': 27944, 'Japan': 26016, 'Belgium': 23237}\n"
          ]
        },
        {
          "output_type": "stream",
          "name": "stderr",
          "text": [
            "<ipython-input-8-3eb09fa872a0>:2: FutureWarning: The default value of numeric_only in DataFrameGroupBy.sum is deprecated. In a future version, numeric_only will default to False. Either specify numeric_only or select only columns which should be valid for the function.\n",
            "  top_countries = df.groupby('Country').sum().sort_values(by='Quantity', ascending=False).drop('United Kingdom')\n"
          ]
        }
      ]
    },
    {
      "cell_type": "code",
      "source": [
        "#3)  Find Total Sale between two dates entered by user\n",
        "\n",
        "df['InvoiceDate'] = pd.to_datetime(df['InvoiceDate'])\n",
        "\n",
        "date_begin = pd.Timestamp(input(\"Enter the begining date (YYYY-MM-DD): \"))\n",
        "date_end = pd.Timestamp(input(\"Enter the ending date (YYYY-MM-DD): \"))\n",
        "\n",
        "df_filtered = df[(df['InvoiceDate'] >= date_begin) & (df['InvoiceDate'] <= date_end)]\n",
        "\n",
        "total_sale = (df_filtered['Quantity'] * df_filtered['UnitPrice']).sum()\n",
        "\n",
        "print(f\"Total sale between {date_begin} and {date_end} is {total_sale}\")"
      ],
      "metadata": {
        "colab": {
          "base_uri": "https://localhost:8080/"
        },
        "id": "96ZUUx8dn_pk",
        "outputId": "a136a9b2-1022-46a6-b8bf-93dd4f0b6417"
      },
      "execution_count": 11,
      "outputs": [
        {
          "output_type": "stream",
          "name": "stdout",
          "text": [
            "Enter the begining date (YYYY-MM-DD): 12/1/10\n",
            "Enter the ending date (YYYY-MM-DD): 12/2/10\n",
            "Total sale between 2010-12-01 00:00:00 and 2010-12-02 00:00:00 is 58635.560000000005\n"
          ]
        }
      ]
    },
    {
      "cell_type": "code",
      "source": [
        "#4) Find each Countries Total SALE to find which Countries is highest potential customer\n",
        "\n",
        "\n",
        "total_sales_by_country = df.groupby('Country')['Quantity'].sum().sort_values(ascending=False)\n",
        "\n",
        "\n",
        "highest_potential_country = total_sales_by_country.idxmax()\n",
        "highest_potential_sales = total_sales_by_country.max()\n",
        "\n",
        "print(f\"The country with the highest sales potential is {highest_potential_country} with total sales of {highest_potential_sales}.\")"
      ],
      "metadata": {
        "colab": {
          "base_uri": "https://localhost:8080/"
        },
        "id": "kST9oLDtoSK-",
        "outputId": "af1ec25f-2b8a-4e12-997b-4fb7ba85d175"
      },
      "execution_count": 12,
      "outputs": [
        {
          "output_type": "stream",
          "name": "stdout",
          "text": [
            "The country with the highest sales potential is United Kingdom with total sales of 4263829.\n"
          ]
        }
      ]
    },
    {
      "cell_type": "code",
      "source": [
        "#5) Which Customer Id has highest purchase in\n",
        "#quantity and total and find out the country of it\n",
        "\n",
        "# Calculate total purchase amount for each row\n",
        "df['TotalPurchase'] = df['Quantity'] * df['UnitPrice']\n",
        "\n",
        "# Aggregate data by CustomerID for total quantity and total purchase amount\n",
        "aggregated_df = df.groupby('CustomerID').agg({\n",
        "    'Quantity': 'sum',\n",
        "    'TotalPurchase': 'sum'\n",
        "}).reset_index()\n",
        "\n",
        "# Identify the customer with the highest purchase in terms of quantity\n",
        "customer_highest_quantity = aggregated_df.sort_values(by='Quantity', ascending=False).iloc[0]['CustomerID']\n",
        "\n",
        "# Identify the customer with the highest purchase in terms of total value\n",
        "customer_highest_total = aggregated_df.sort_values(by='TotalPurchase', ascending=False).iloc[0]['CustomerID']\n",
        "\n",
        "# Assuming both highest quantity and total purchase are by the same customer (as seen in our earlier analysis)\n",
        "country_of_customer = df[df['CustomerID'] == customer_highest_quantity]['Country'].unique()[0]\n",
        "\n",
        "print(f\"Customer ID with the highest purchase (both in terms of quantity and total): {customer_highest_quantity}\")\n",
        "print(f\"Country of this customer: {country_of_customer}\")\n"
      ],
      "metadata": {
        "colab": {
          "base_uri": "https://localhost:8080/"
        },
        "id": "3fgspPy2o_VL",
        "outputId": "c9a6f465-7fe8-45c9-d661-bc498504270a"
      },
      "execution_count": 19,
      "outputs": [
        {
          "output_type": "stream",
          "name": "stdout",
          "text": [
            "Customer ID with the highest purchase (both in terms of quantity and total): 14646.0\n",
            "Country of this customer: Netherlands\n"
          ]
        }
      ]
    },
    {
      "cell_type": "code",
      "source": [
        "#6) Which Customer Id has lowest purchase in quantity and total and find out the country of it\n",
        "\n",
        "df['TotalPurchase'] = df['Quantity'] * df['UnitPrice']\n",
        "\n",
        "grouped_data = df.groupby('CustomerID')\n",
        "summed_data = grouped_data.sum()\n",
        "\n",
        "sorted_by_quantity = summed_data.sort_values(by='Quantity')\n",
        "lowest_quantity_customer = sorted_by_quantity.head(1)\n",
        "\n",
        "sorted_by_total_purchase = summed_data.sort_values(by='TotalPurchase')\n",
        "lowest_purchase_customer = sorted_by_total_purchase.head(1)\n",
        "\n",
        "customer_country = df[df['CustomerID'] == lowest_quantity_customer.index[0]]['Country'].iloc[0]\n",
        "\n",
        "\n",
        "print(\"The Customer ID with the lowest purchase in terms of quantity is:\", lowest_quantity_customer.index[0])\n",
        "print(\"The Customer ID with the lowest purchase in terms of total amount is:\", lowest_purchase_customer.index[0])\n",
        "print(\"The country of the customer is:\", customer_country)\n",
        "\n"
      ],
      "metadata": {
        "colab": {
          "base_uri": "https://localhost:8080/"
        },
        "id": "iMLQXCFbstb1",
        "outputId": "f5205ed3-199b-4be3-9c8a-78391c87346e"
      },
      "execution_count": 21,
      "outputs": [
        {
          "output_type": "stream",
          "name": "stdout",
          "text": [
            "The Customer ID with the lowest purchase in terms of quantity is: 16546.0\n",
            "The Customer ID with the lowest purchase in terms of total amount is: 17448.0\n",
            "The country of the customer is: United Kingdom\n"
          ]
        },
        {
          "output_type": "stream",
          "name": "stderr",
          "text": [
            "<ipython-input-21-de3b3f469255>:11: FutureWarning: The default value of numeric_only in DataFrameGroupBy.sum is deprecated. In a future version, numeric_only will default to False. Either specify numeric_only or select only columns which should be valid for the function.\n",
            "  summed_data = grouped_data.sum()\n"
          ]
        }
      ]
    },
    {
      "cell_type": "code",
      "source": [
        "# 7) Find the biggest order In Sale (Cost) which country was the order from and fiind total purchase (Cost) done by that customer ID\n",
        "df['TotalCost'] = df['Quantity'] * df['UnitPrice']\n",
        "\n",
        "\n",
        "highest_invoice = df.groupby('InvoiceNo')['TotalCost'].sum().idxmax()\n",
        "\n",
        "\n",
        "highest_order_details = df[df['InvoiceNo'] == highest_invoice].iloc[0]\n",
        "\n",
        "\n",
        "country_of_highest_order = highest_order_details['Country']\n",
        "\n",
        "\n",
        "customer_id_of_highest_order = highest_order_details['CustomerID']\n",
        "\n",
        "\n",
        "total_purchase_by_customer = df[df['CustomerID'] == customer_id_of_highest_order]['TotalCost'].sum()\n",
        "\n",
        "print(\"Biggest Order Invoice:\", highest_invoice)\n",
        "print(\"Country of Biggest Order:\", country_of_highest_order)\n",
        "print(\"Customer ID of Biggest Order:\", customer_id_of_highest_order)\n",
        "print(\"Total Purchase by Customer:\", total_purchase_by_customer)\n"
      ],
      "metadata": {
        "colab": {
          "base_uri": "https://localhost:8080/"
        },
        "id": "y5BDsEMpoby6",
        "outputId": "255345e5-4deb-4435-a7c4-a95593ef5175"
      },
      "execution_count": 13,
      "outputs": [
        {
          "output_type": "stream",
          "name": "stdout",
          "text": [
            "Biggest Order Invoice: 581483\n",
            "Country of Biggest Order: United Kingdom\n",
            "Customer ID of Biggest Order: 16446.0\n",
            "Total Purchase by Customer: 2.8999999999941792\n"
          ]
        }
      ]
    },
    {
      "cell_type": "code",
      "source": [
        "\n",
        "#8) Find how many different customers are available for each country save the count in\n",
        "#dictionary also return countries with highest and lowest customer count\n",
        "\n",
        "customer_count_per_country = df.groupby('Country')['CustomerID'].nunique()\n",
        "\n",
        "\n",
        "customer_count_dict = customer_count_per_country.to_dict()\n",
        "\n",
        "\n",
        "highest_customer_country = max(customer_count_dict, key=customer_count_dict.get)\n",
        "lowest_customer_country = min(customer_count_dict, key=customer_count_dict.get)\n",
        "\n",
        "print(\"Customer count per country:\", customer_count_dict)\n",
        "print(\"Country with highest customer count:\", highest_customer_country)\n",
        "print(\"Country with lowest customer count:\", lowest_customer_country)\n"
      ],
      "metadata": {
        "colab": {
          "base_uri": "https://localhost:8080/"
        },
        "id": "TNCcXdNEofBt",
        "outputId": "983248f8-fc62-4357-e8ef-0812d0956d7a"
      },
      "execution_count": 14,
      "outputs": [
        {
          "output_type": "stream",
          "name": "stdout",
          "text": [
            "Customer count per country: {'Australia': 9, 'Austria': 11, 'Bahrain': 2, 'Belgium': 25, 'Brazil': 1, 'Canada': 4, 'Channel Islands': 9, 'Cyprus': 8, 'Czech Republic': 1, 'Denmark': 9, 'EIRE': 3, 'European Community': 1, 'Finland': 12, 'France': 87, 'Germany': 95, 'Greece': 4, 'Hong Kong': 0, 'Iceland': 1, 'Israel': 4, 'Italy': 15, 'Japan': 8, 'Lebanon': 1, 'Lithuania': 1, 'Malta': 2, 'Netherlands': 9, 'Norway': 10, 'Poland': 6, 'Portugal': 19, 'RSA': 1, 'Saudi Arabia': 1, 'Singapore': 1, 'Spain': 31, 'Sweden': 8, 'Switzerland': 21, 'USA': 4, 'United Arab Emirates': 2, 'United Kingdom': 3950, 'Unspecified': 4}\n",
            "Country with highest customer count: United Kingdom\n",
            "Country with lowest customer count: Hong Kong\n"
          ]
        }
      ]
    },
    {
      "cell_type": "code",
      "source": [
        "#9) Find which stock code was ordered the most by each country\n",
        "\n",
        "stock_ordered_most = df.groupby(['Country', 'StockCode']).size().reset_index(name='Count')\n",
        "\n",
        "stock_ordered_most = stock_ordered_most.sort_values(['Country', 'Count'], ascending=[True, False])\n",
        "\n",
        "stock_ordered_most_by_country = stock_ordered_most.groupby('Country').first().reset_index()\n",
        "\n",
        "print(stock_ordered_most_by_country[['Country', 'StockCode']])\n",
        "\n"
      ],
      "metadata": {
        "colab": {
          "base_uri": "https://localhost:8080/"
        },
        "id": "Urte4RjJogU1",
        "outputId": "4c45cafa-a21d-43f4-811b-ed4e4077e23c"
      },
      "execution_count": 15,
      "outputs": [
        {
          "output_type": "stream",
          "name": "stdout",
          "text": [
            "                 Country StockCode\n",
            "0              Australia     22720\n",
            "1                Austria      POST\n",
            "2                Bahrain    72802B\n",
            "3                Belgium      POST\n",
            "4                 Brazil   15056BL\n",
            "5                 Canada     10133\n",
            "6        Channel Islands     20725\n",
            "7                 Cyprus     22423\n",
            "8         Czech Republic     22231\n",
            "9                Denmark      POST\n",
            "10                  EIRE        C2\n",
            "11    European Community      POST\n",
            "12               Finland      POST\n",
            "13                France      POST\n",
            "14               Germany      POST\n",
            "15                Greece      POST\n",
            "16             Hong Kong     22452\n",
            "17               Iceland     22375\n",
            "18                Israel     23240\n",
            "19                 Italy      POST\n",
            "20                 Japan     21218\n",
            "21               Lebanon     21165\n",
            "22             Lithuania     20967\n",
            "23                 Malta     22768\n",
            "24           Netherlands      POST\n",
            "25                Norway      POST\n",
            "26                Poland     16016\n",
            "27              Portugal      POST\n",
            "28                   RSA     20676\n",
            "29          Saudi Arabia     22361\n",
            "30             Singapore         M\n",
            "31                 Spain      POST\n",
            "32                Sweden      POST\n",
            "33           Switzerland      POST\n",
            "34                   USA     22027\n",
            "35  United Arab Emirates     20961\n",
            "36        United Kingdom    85123A\n",
            "37           Unspecified     22150\n"
          ]
        }
      ]
    }
  ]
}