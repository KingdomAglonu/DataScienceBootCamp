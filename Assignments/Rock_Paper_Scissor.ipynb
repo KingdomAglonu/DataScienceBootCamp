{
  "nbformat": 4,
  "nbformat_minor": 0,
  "metadata": {
    "colab": {
      "provenance": []
    },
    "kernelspec": {
      "name": "python3",
      "display_name": "Python 3"
    },
    "language_info": {
      "name": "python"
    }
  },
  "cells": [
    {
      "cell_type": "code",
      "execution_count": null,
      "metadata": {
        "id": "TzdKaEA3o0-Z"
      },
      "outputs": [],
      "source": [
        "import random\n",
        "\n",
        "while True:\n",
        "        user_choice = input(\"Please make a choice: rock, paper, scissors: \").lower()\n",
        "\n",
        "        available_choice = [\"rock\", \"paper\", \"scissors\"]\n",
        "        computer_choice = random.choice(available_choice)\n",
        "\n",
        "        print(f\"You chose {user_choice}. Computer chose {computer_choice}.\")\n",
        "\n",
        "        if user_choice == computer_choice:\n",
        "            print(\"This is a tie, You may play again\")\n",
        "        elif user_choice == \"rock\" and computer_choice == \"scissors\":\n",
        "            print(\"You won!\")\n",
        "            break\n",
        "        elif user_choice == \"scissors\" and computer_choice == \"paper\":\n",
        "            print(\"You won!\")\n",
        "            break\n",
        "        elif user_choice == \"paper\" and computer_choice == \"rock\":\n",
        "            print(\"You won!\")\n",
        "            break\n",
        "        else:\n",
        "            print(\"You lost!.Play again \")\n",
        "\n",
        "\n"
      ]
    }
  ]
}