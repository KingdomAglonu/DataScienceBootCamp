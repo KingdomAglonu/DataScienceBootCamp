{
  "nbformat": 4,
  "nbformat_minor": 0,
  "metadata": {
    "colab": {
      "provenance": []
    },
    "kernelspec": {
      "name": "python3",
      "display_name": "Python 3"
    },
    "language_info": {
      "name": "python"
    }
  },
  "cells": [
    {
      "cell_type": "code",
      "execution_count": null,
      "metadata": {
        "id": "PtzuHYP716I1"
      },
      "outputs": [],
      "source": [
        "# 1) Swap two numbers using 3rd variable\n",
        "\n",
        "first_num = int(input('Enter first number: '))\n",
        "second_num = int(input('Enter second number: '))\n",
        "print('The first and second numbers before swapping are', first_num,'and', second_num,'respectively')\n",
        "\n",
        "#Swaping\n",
        "third_var = first_num\n",
        "first_num = second_num\n",
        "second_num = third_var\n",
        "print('The first and second numbers after swapping are', first_num,'and', second_num,'respectively')\n"
      ]
    },
    {
      "cell_type": "code",
      "source": [
        "# 2) Swap two numbers without using 3rd variable\n",
        "\n",
        "first_num = int(input('Enter first number: '))\n",
        "second_num = int(input('Enter second number: '))\n",
        "print('The first and second numbers before swapping are', first_num,'and', second_num,'respectively')\n",
        "\n",
        "#Swaping\n",
        "first_num, second_num = second_num,first_num\n",
        "print('The first and second numbers after swapping are', first_num,'and', second_num,'respectively')"
      ],
      "metadata": {
        "id": "JL2WuoFppUQS"
      },
      "execution_count": null,
      "outputs": []
    },
    {
      "cell_type": "code",
      "source": [
        "# 3) Remove duplicate elements from a list without converting to tuple\n",
        "\n",
        "lst = [1,2,2,3,4,1,1,5,2,6]\n",
        "lst_new = []\n",
        "\n",
        "for i in lst:\n",
        "  if i not in lst_new:\n",
        "    lst_new.append(i)\n",
        "\n",
        "print(\"The new list after removing duplicate is:\\n \",lst_new)"
      ],
      "metadata": {
        "id": "Zrxp17XTq8AX"
      },
      "execution_count": null,
      "outputs": []
    },
    {
      "cell_type": "code",
      "source": [
        "# 4) Write a program to find the greatest common divisor (GCD) or highest common factor (HCF) of given two numbers\n",
        "num_1 = int(input(\"Enter first number: \"))\n",
        "num_2 = int(input(\"Enter second number: \"))\n",
        "\n",
        "def Find_GCD(x,y):\n",
        "  if y ==0:\n",
        "    return x\n",
        "  else:\n",
        "    return Find_GCD(y,x%y)\n",
        "print(\"The GCD or HFC is: \",Find_GCD(num_1,num_2))\n"
      ],
      "metadata": {
        "id": "AdlO3h3guNVy"
      },
      "execution_count": null,
      "outputs": []
    },
    {
      "cell_type": "code",
      "source": [
        "# 5) Write a loop to print the following series  10, 20, 30,  …………………, 300\n",
        "\n",
        "for i in range(10, 301, 10):\n",
        "    print(i, end=\",\")\n"
      ],
      "metadata": {
        "id": "1HNqFe8g6_K5"
      },
      "execution_count": null,
      "outputs": []
    },
    {
      "cell_type": "code",
      "source": [
        "# 6) Write a loop to print following series\n",
        "# 105,98,91,………………………,7\n",
        "\n",
        "for i in range(105,0,-7):\n",
        "  print(i,end = \",\")"
      ],
      "metadata": {
        "id": "hCxmc_mO_lv-"
      },
      "execution_count": null,
      "outputs": []
    },
    {
      "cell_type": "code",
      "source": [
        "# 7) Write a program to print number names of digits in a number like\n",
        "# SAMPLE INPUT 231 \t\tSAMPLE OUTPUT TWO THREE ONE\n",
        "\n",
        "def num_to_words(num):\n",
        "\n",
        "    digit_to_name = {\n",
        "        \"0\": \"Zero\",\n",
        "        \"1\": \"One\",\n",
        "        \"2\": \"Two\",\n",
        "        \"3\": \"Three\",\n",
        "        \"4\": \"Four\",\n",
        "        \"5\": \"Five\",\n",
        "        \"6\": \"Six\",\n",
        "        \"7\": \"Seven\",\n",
        "        \"8\": \"Eight\",\n",
        "        \"9\": \"Nine\"\n",
        "    }\n",
        "\n",
        "    str_num = str(num)\n",
        "    for digit in str_num:\n",
        "        print(digit_to_name[digit], end=\" \")\n",
        "    print()\n",
        "\n",
        "number = int(input(\"Please enter a number: \"))\n",
        "num_to_words(number)\n"
      ],
      "metadata": {
        "id": "4C1E8_JMA4b7"
      },
      "execution_count": null,
      "outputs": []
    },
    {
      "cell_type": "code",
      "source": [
        "# 8) Write a program to print Fibonacci series till n terms take n =50\n",
        "n = 50\n",
        "a, b = 0, 1\n",
        "\n",
        "for i in range(n):\n",
        "    print(f\"Term {i+1}: {a}\")\n",
        "    temp = b\n",
        "    b = a + b\n",
        "    a = temp\n"
      ],
      "metadata": {
        "id": "4_UaVkieHnh-"
      },
      "execution_count": null,
      "outputs": []
    },
    {
      "cell_type": "code",
      "source": [
        "# 9) Write a program to print factorial of a number\n",
        "\n",
        "num = int(input(\"Please enter a number: \"))\n",
        "def cal_factorial(num):\n",
        "  factorial = 1\n",
        "  if num == 0 or num == 1:\n",
        "    return 1\n",
        "  for i in range(1,num+1):\n",
        "    factorial = factorial *i\n",
        "  return factorial\n",
        "\n",
        "output = cal_factorial(num)\n",
        "print(\"The factorial of the number\", num, 'is',output)\n",
        ""
      ],
      "metadata": {
        "id": "0ZKlBE_gIRP-"
      },
      "execution_count": null,
      "outputs": []
    },
    {
      "cell_type": "code",
      "source": [
        "# 10) Write a program to check if a number is Armstrong or not\n",
        "\n",
        "number = int(input('Enter a number'))\n",
        "\n",
        "def check_armstrong(num):\n",
        "\n",
        "  if num in range(1,10):\n",
        "    return True\n",
        "\n",
        "  order = len(str(num))\n",
        "  sum = 0\n",
        "  original = num\n",
        "\n",
        "  while num > 0:\n",
        "    digit = num % 10\n",
        "    sum += digit ** order\n",
        "    num = num // 10\n",
        "\n",
        "  if sum == original:\n",
        "    return True\n",
        "  return False\n",
        "\n",
        "if check_armstrong(number):\n",
        "  print('The number is Armstrong')\n",
        "else:\n",
        "   print('The number is not Armstrong')\n"
      ],
      "metadata": {
        "id": "SJ2OFDB8IUTa"
      },
      "execution_count": null,
      "outputs": []
    },
    {
      "cell_type": "code",
      "source": [
        "# 11) Write a program to convert binary to decimal\n",
        "\n",
        "b_number = int(input(\"Enter binary number - only 0 and 1: \"))\n",
        "\n",
        "def binary_to_decimal(binNum):\n",
        "\n",
        "  decimal_number = 0\n",
        "  power = 0\n",
        "\n",
        "  while binNum != 0:\n",
        "    decimal = binNum % 10\n",
        "    decimal_number = decimal_number + decimal * pow(2,power)\n",
        "\n",
        "    binNum = binNum // 10\n",
        "    power += 1\n",
        "  return decimal_number\n",
        "\n",
        "output = binary_to_decimal(b_number)\n",
        "print('Decimal number is:', output)\n"
      ],
      "metadata": {
        "id": "1wg38yWPIYWI"
      },
      "execution_count": null,
      "outputs": []
    },
    {
      "cell_type": "code",
      "source": [
        "# 12) Write a program to convert decimal to binary\n",
        "\n",
        "d_number = int(input(\"Enter a decimal number: \"))\n",
        "\n",
        "def decimal_to_binary(decNum):\n",
        "    binary_number = 0\n",
        "    power = 0\n",
        "\n",
        "    while decNum != 0:\n",
        "        remainder = decNum % 2\n",
        "        binary_number = binary_number + remainder * pow(10, power)\n",
        "\n",
        "        decNum = decNum // 2\n",
        "        power += 1\n",
        "\n",
        "    return binary_number\n",
        "\n",
        "output = decimal_to_binary(d_number)\n",
        "print('Binary number is:', output)\n"
      ],
      "metadata": {
        "id": "CAMQY5MZIbO0"
      },
      "execution_count": null,
      "outputs": []
    },
    {
      "cell_type": "code",
      "source": [
        "# 13) Write a program to check if number is palindrome on not (Without converting to string)\n",
        "\n",
        "number = int(input('Enter any number: '))\n",
        "original = number\n",
        "reverse = 0\n",
        "\n",
        "while (number > 0):\n",
        "  digit = number % 10\n",
        "  reverse = reverse * 10 + digit\n",
        "  number = number // 10\n",
        "\n",
        "if original == reverse:\n",
        "  print('The number is palindrome.')\n",
        "else:\n",
        "  print('The number is not palindrome.')"
      ],
      "metadata": {
        "id": "E4NMJklLIdlI"
      },
      "execution_count": null,
      "outputs": []
    },
    {
      "cell_type": "code",
      "source": [
        "# 14) Write a program to print all numbers which are divisible by 13 but not by 3 between 100 and 500\n",
        "\n",
        "for i in range(100, 501):\n",
        "    if i % 13 == 0 and i % 3 != 0:\n",
        "        print(i)\n"
      ],
      "metadata": {
        "id": "qKvsGL98JPh-"
      },
      "execution_count": null,
      "outputs": []
    },
    {
      "cell_type": "code",
      "source": [
        "# 15) Write a Python program to convert temperatures to and from Celsius and Fahrenheit.\n",
        "\n",
        "def celsius_to_fahrenheit(celsius):\n",
        "    return (celsius * 9/5) + 32\n",
        "\n",
        "def fahrenheit_to_celsius(fahrenheit):\n",
        "    return (fahrenheit - 32) * 5/9\n",
        "\n",
        "temp = float(input(\"Enter temperature: \"))\n",
        "unit = input(\"Enter unit (C for Celsius, F for Fahrenheit): \")\n",
        "\n",
        "if unit.upper() == 'C':\n",
        "    converted_temp = celsius_to_fahrenheit(temp)\n",
        "    print(f\"The temperature in Fahrenheit is: {converted_temp}°F\")\n",
        "\n",
        "elif unit.upper() == 'F':\n",
        "    converted_temp = fahrenheit_to_celsius(temp)\n",
        "    print(f\"The temperature in Celsius is: {converted_temp}°C\")\n",
        "\n",
        "else:\n",
        "    print(\"Invalid unit entered. Please enter either 'C' or 'F'.\")\n"
      ],
      "metadata": {
        "id": "Elq3OZZWJagq"
      },
      "execution_count": null,
      "outputs": []
    },
    {
      "cell_type": "code",
      "source": [
        "\n",
        "# 16) Write a Python program that takes two digits m (row) and n (column) as input and generates a two-dimensional array.\n",
        "#The element value in the i-th row and j-th column of the array should be i*j. else it will be 0\n",
        "# Ask the user for the number of rows and columns\n",
        "\n",
        "num_rows = int(input(\"Enter the number of rows: \"))\n",
        "num_cols = int(input(\"Enter the number of columns: \"))\n",
        "\n",
        "array = []\n",
        "\n",
        "for i in range(num_rows):\n",
        "    row = []\n",
        "\n",
        "    for j in range(num_cols):\n",
        "        if i == 0 or j == 0:\n",
        "            row.append(0)\n",
        "        else:\n",
        "            row.append(i * j)\n",
        "\n",
        "    array.append(row)\n",
        "\n",
        "for row in array:\n",
        "    print(row)\n"
      ],
      "metadata": {
        "id": "BGLJRl0CJl6_"
      },
      "execution_count": null,
      "outputs": []
    },
    {
      "cell_type": "code",
      "source": [
        "# 17. Write a Python program that accepts a string and calculates the number of digits and letters.\n",
        "# Sample Data: Python 3.2\n",
        "# Expected Output:\n",
        "# Letters 6\n",
        "# Digits 2\n",
        "\n",
        "def calculate_chars(s):\n",
        "    letters = 0\n",
        "    digits = 0\n",
        "\n",
        "    for i in s:\n",
        "        if i.isdigit():\n",
        "            digits += 1\n",
        "        elif i.isalpha():\n",
        "            letters += 1\n",
        "\n",
        "    print(f\"Letters: {letters}\")\n",
        "    print(f\"Digits: {digits}\")\n",
        "\n",
        "input_string = input(\"Please enter a string: \")\n",
        "\n",
        "calculate_chars(input_string)\n"
      ],
      "metadata": {
        "id": "2fX9cPbaJoDJ"
      },
      "execution_count": null,
      "outputs": []
    },
    {
      "cell_type": "code",
      "source": [
        "# 18) Print all possible combination for a string or a word\n",
        "# Sample input “ABC”\n",
        "# Sample output\n",
        "# BAC\n",
        "# CAB\n",
        "# CBA\n",
        "# ACB\n",
        "# BCA\n",
        "\n",
        "def possible_comb(s, current_combo=\"\", index=0):\n",
        "    if index == len(s):\n",
        "        print(current_combo)\n",
        "        return\n",
        "\n",
        "    for i in range(len(s)):\n",
        "        if s[i] not in current_combo:\n",
        "            possible_comb(s, current_combo + s[i], index + 1)\n",
        "\n",
        "# Get input from the user\n",
        "input_string = input(\"Enter a string: \")\n",
        "\n",
        "# Start the process of generating combinations\n",
        "possible_comb(input_string)\n"
      ],
      "metadata": {
        "id": "wRqxA3O20-98"
      },
      "execution_count": null,
      "outputs": []
    },
    {
      "cell_type": "code",
      "source": [
        "# 19) Write a Python program to check if a triangle is equilateral, isosceles or scalene. Take 3 inputs for each side\n",
        "\n",
        "# Note :\n",
        "# An equilateral triangle is a triangle in which all three sides are equal.\n",
        "# A scalene triangle is a triangle that has three unequal sides.\n",
        "# An isosceles triangle is a triangle with (at least) two equal sides.\n",
        "\n",
        "side1 = float(input(\"Input the length of side 1: \"))\n",
        "side2 = float(input(\"Input the length of side 2: \"))\n",
        "side3 = float(input(\"Input the length of side 3: \"))\n",
        "\n",
        "if side1 + side2 > side3 and side2 + side3 > side1 and side1 + side3 > side2:\n",
        "\n",
        "    if side1 == side2 == side3:\n",
        "        print(\"The triangle is equilateral.\")\n",
        "\n",
        "    elif side1 == side2 or side2 == side3 or side1 == side3:\n",
        "        print(\"The triangle is isosceles.\")\n",
        "\n",
        "    else:\n",
        "        print(\"The triangle is scalene.\")\n",
        "\n",
        "else:\n",
        "    print(\"This is not a triangle.\")\n"
      ],
      "metadata": {
        "id": "iPpVeYMdJuzU"
      },
      "execution_count": null,
      "outputs": []
    },
    {
      "cell_type": "code",
      "source": [
        "\n",
        "# 20) Write a Python program to get the next day of a given date.\n",
        "# Expected Output:\n",
        "# Input a year: 2016\n",
        "# Input a month [1-12]: 08\n",
        "# Input a day [1-31]: 23\n",
        "# The next date is [yyyy-mm-dd] 2016-8-24\n",
        "\n",
        "\n",
        "year = int(input(\"Input a year: \"))\n",
        "month = int(input(\"Input a month [1-12]: \"))\n",
        "day = int(input(\"Input a day [1-31]: \"))\n",
        "\n",
        "leap_year = False\n",
        "if (year % 4 == 0 and year % 100 != 0) or (year % 400 == 0):\n",
        "    leap_year = True\n",
        "\n",
        "# Days in the month considering leap year for February\n",
        "days_in_month = [31, 29 if leap_year else 28, 31, 30, 31, 30, 31, 31, 30, 31, 30, 31]\n",
        "\n",
        "day += 1\n",
        "if day > days_in_month[month - 1]:\n",
        "    day = 1\n",
        "    month += 1\n",
        "    if month > 12:\n",
        "        month = 1\n",
        "        year += 1\n",
        "\n",
        "next_day = f\"{year}-{month}-{day}\"\n",
        "\n",
        "print(f\"The next date is [yyyy-mm-dd] {next_day}\")\n"
      ],
      "metadata": {
        "colab": {
          "base_uri": "https://localhost:8080/"
        },
        "id": "dxGmfajc2FHg",
        "outputId": "eb307440-8632-4ab5-8fc6-56214ac567e9"
      },
      "execution_count": 18,
      "outputs": [
        {
          "output_type": "stream",
          "name": "stdout",
          "text": [
            "Input a year: 2015\n",
            "Input a month [1-12]: 8\n",
            "Input a day [1-31]: 5\n",
            "The next date is [yyyy-mm-dd] 2015-8-6\n"
          ]
        }
      ]
    }
  ]
}