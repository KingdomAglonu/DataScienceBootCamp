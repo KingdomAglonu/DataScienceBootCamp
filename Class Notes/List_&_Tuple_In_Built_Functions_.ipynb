{
  "nbformat": 4,
  "nbformat_minor": 0,
  "metadata": {
    "colab": {
      "provenance": []
    },
    "kernelspec": {
      "name": "python3",
      "display_name": "Python 3"
    },
    "language_info": {
      "name": "python"
    }
  },
  "cells": [
    {
      "cell_type": "markdown",
      "source": [
        "**List In-Built Functions**"
      ],
      "metadata": {
        "id": "F8NUDJquIFgB"
      }
    },
    {
      "cell_type": "code",
      "source": [
        "a = [1,2,3,4,5]\n",
        "dir(a)"
      ],
      "metadata": {
        "colab": {
          "base_uri": "https://localhost:8080/"
        },
        "id": "CCSx446SIPFv",
        "outputId": "c2c59b6a-509e-48cd-e54d-5119a73a6e33"
      },
      "execution_count": null,
      "outputs": [
        {
          "output_type": "execute_result",
          "data": {
            "text/plain": [
              "['__add__',\n",
              " '__class__',\n",
              " '__class_getitem__',\n",
              " '__contains__',\n",
              " '__delattr__',\n",
              " '__delitem__',\n",
              " '__dir__',\n",
              " '__doc__',\n",
              " '__eq__',\n",
              " '__format__',\n",
              " '__ge__',\n",
              " '__getattribute__',\n",
              " '__getitem__',\n",
              " '__gt__',\n",
              " '__hash__',\n",
              " '__iadd__',\n",
              " '__imul__',\n",
              " '__init__',\n",
              " '__init_subclass__',\n",
              " '__iter__',\n",
              " '__le__',\n",
              " '__len__',\n",
              " '__lt__',\n",
              " '__mul__',\n",
              " '__ne__',\n",
              " '__new__',\n",
              " '__reduce__',\n",
              " '__reduce_ex__',\n",
              " '__repr__',\n",
              " '__reversed__',\n",
              " '__rmul__',\n",
              " '__setattr__',\n",
              " '__setitem__',\n",
              " '__sizeof__',\n",
              " '__str__',\n",
              " '__subclasshook__',\n",
              " 'append',\n",
              " 'clear',\n",
              " 'copy',\n",
              " 'count',\n",
              " 'extend',\n",
              " 'index',\n",
              " 'insert',\n",
              " 'pop',\n",
              " 'remove',\n",
              " 'reverse',\n",
              " 'sort']"
            ]
          },
          "metadata": {},
          "execution_count": 1
        }
      ]
    },
    {
      "cell_type": "code",
      "source": [
        "#Appends only adds value at the last index of the list.\n",
        "a = [1,2,3,4,5]\n",
        "print(\"Before append\",a)\n",
        "a.append(8)\n",
        "print(\"After append\",a)"
      ],
      "metadata": {
        "colab": {
          "base_uri": "https://localhost:8080/"
        },
        "id": "BBUlJ4CHKRyD",
        "outputId": "a54abe65-57d2-47aa-fb96-6be6015e64e3"
      },
      "execution_count": null,
      "outputs": [
        {
          "output_type": "stream",
          "name": "stdout",
          "text": [
            "Before append [1, 2, 3, 4, 5]\n",
            "After append [1, 2, 3, 4, 5, 8]\n"
          ]
        }
      ]
    },
    {
      "cell_type": "code",
      "source": [
        "#clear function removes or clear elements from the list\n",
        "a = [1,2,3,4,5]\n",
        "print(\"Before clear\",a)\n",
        "a.clear()\n",
        "print(\"After clear\",a)\n",
        "print(len(a))"
      ],
      "metadata": {
        "colab": {
          "base_uri": "https://localhost:8080/"
        },
        "id": "uJtUz4q3Kx7B",
        "outputId": "8eb981c2-96b0-4860-89ba-d9b59537bc9f"
      },
      "execution_count": null,
      "outputs": [
        {
          "output_type": "stream",
          "name": "stdout",
          "text": [
            "Before clear [1, 2, 3, 4, 5]\n",
            "After clear []\n",
            "0\n"
          ]
        }
      ]
    },
    {
      "cell_type": "code",
      "source": [
        "a_list = [1,2,3,4,5]\n",
        "b_list = a_list\n",
        "c_list=a_list.copy()\n",
        "print(\"Before operation Actual List\",a_list)\n",
        "print(\"Before operation Equal to List\",b_list)\n",
        "print(\"Before operation Copy List\",c_list)\n",
        "print(\"===================================\")\n",
        "a_list.append(8)\n",
        "print(\"After operation Actual List\",a_list)\n",
        "print(\"After operation Equal to List\",b_list)\n",
        "print(\"After operation Copy List\",c_list)"
      ],
      "metadata": {
        "colab": {
          "base_uri": "https://localhost:8080/"
        },
        "id": "86CTOCVDLjiq",
        "outputId": "747edaf8-801e-4559-b4e7-9d5c64a515f7"
      },
      "execution_count": null,
      "outputs": [
        {
          "output_type": "stream",
          "name": "stdout",
          "text": [
            "Before operation Actual List [1, 2, 3, 4, 5]\n",
            "Before operation Equal to List [1, 2, 3, 4, 5]\n",
            "Before operation Copy List [1, 2, 3, 4, 5]\n",
            "===================================\n",
            "After operation Actual List [1, 2, 3, 4, 5, 8]\n",
            "After operation Equal to List [1, 2, 3, 4, 5, 8]\n",
            "After operation Copy List [1, 2, 3, 4, 5]\n"
          ]
        }
      ]
    },
    {
      "cell_type": "code",
      "source": [
        "#Returns frequency of whatever value is passed to the function\n",
        "a_list=[1,2,3,4,5,7,6,1,2,33,1]\n",
        "print(a_list.count('a'))\n",
        "print(a_list.count(1))"
      ],
      "metadata": {
        "colab": {
          "base_uri": "https://localhost:8080/"
        },
        "id": "dPuqLE5lN42o",
        "outputId": "7a1b2788-306a-495d-c2d7-c1dd88b5eca0"
      },
      "execution_count": null,
      "outputs": [
        {
          "output_type": "stream",
          "name": "stdout",
          "text": [
            "0\n",
            "3\n"
          ]
        }
      ]
    },
    {
      "cell_type": "code",
      "source": [
        "#Extend Function adds the whole new list as one index\n",
        "a_list = [1,2,3,4,5,6,7]\n",
        "a_list.append([8,9,10])\n",
        "print(\"Append function\", a_list)\n",
        "print(\"Append function len\", len(a_list))"
      ],
      "metadata": {
        "colab": {
          "base_uri": "https://localhost:8080/"
        },
        "id": "YYFNP-JIOZtv",
        "outputId": "bf93e6f3-1e92-4b7e-c4d1-2c6c4f91d175"
      },
      "execution_count": null,
      "outputs": [
        {
          "output_type": "stream",
          "name": "stdout",
          "text": [
            "Append function [1, 2, 3, 4, 5, 6, 7, [8, 9, 10]]\n",
            "Append function len 8\n"
          ]
        }
      ]
    },
    {
      "cell_type": "code",
      "source": [
        "#Extend function adds the elements one by one to the old list\n",
        "a_list = [1,2,3,4,5,6,7]\n",
        "a_list.extend([8,9,10])\n",
        "print(\"Extend function\",a_list)\n",
        "print(\"Extend function len\",len(a_list))"
      ],
      "metadata": {
        "colab": {
          "base_uri": "https://localhost:8080/"
        },
        "id": "CM2eR7baPRH0",
        "outputId": "a819db24-bb4e-4588-ea1d-68ec1d8ec434"
      },
      "execution_count": null,
      "outputs": [
        {
          "output_type": "stream",
          "name": "stdout",
          "text": [
            "Extend function [1, 2, 3, 4, 5, 6, 7, 8, 9, 10]\n",
            "Extend function len 10\n"
          ]
        }
      ]
    },
    {
      "cell_type": "code",
      "source": [
        "a_list = [1,2,3,4,5,6,7]\n",
        "a_list.append([8,9,10])\n",
        "print(a_list)\n",
        "print(a_list[7]) #The 7th index\n",
        "print(a_list[7][1])#This print out the first indect from the 7th index which is 9"
      ],
      "metadata": {
        "colab": {
          "base_uri": "https://localhost:8080/"
        },
        "id": "VPzUqjO3Pxas",
        "outputId": "8bcf973e-a370-4512-d392-391938e308cc"
      },
      "execution_count": null,
      "outputs": [
        {
          "output_type": "stream",
          "name": "stdout",
          "text": [
            "[1, 2, 3, 4, 5, 6, 7, [8, 9, 10]]\n",
            "[8, 9, 10]\n",
            "9\n"
          ]
        }
      ]
    },
    {
      "cell_type": "code",
      "source": [
        "a_list = [1,2,3,4,5,6,7]\n",
        "a_list.append([8,9,10])\n",
        "print(a_list)\n",
        "print(a_list[7])\n",
        "print(a_list[7][::-1]) #The 7th index in a reverse way\n",
        "print(a_list[7][1])"
      ],
      "metadata": {
        "colab": {
          "base_uri": "https://localhost:8080/"
        },
        "id": "qJ2BDgaQSap7",
        "outputId": "5b0f4d98-1e32-495d-dc82-b3216d9cd414"
      },
      "execution_count": null,
      "outputs": [
        {
          "output_type": "stream",
          "name": "stdout",
          "text": [
            "[1, 2, 3, 4, 5, 6, 7, [8, 9, 10]]\n",
            "[8, 9, 10]\n",
            "[10, 9, 8]\n",
            "9\n"
          ]
        }
      ]
    },
    {
      "cell_type": "code",
      "source": [
        "#Index returns the index of the first element found even if there are more\n",
        "a_list = [11,22,33,44,55,66,77,33]\n",
        "a_list.index(33)"
      ],
      "metadata": {
        "colab": {
          "base_uri": "https://localhost:8080/"
        },
        "id": "UfRuBD-qUeL4",
        "outputId": "8113b610-c643-4c8a-9d0f-732c5bc117a4"
      },
      "execution_count": null,
      "outputs": [
        {
          "output_type": "execute_result",
          "data": {
            "text/plain": [
              "2"
            ]
          },
          "metadata": {},
          "execution_count": 36
        }
      ]
    },
    {
      "cell_type": "code",
      "source": [
        "#insert\n",
        "a_list = [11,22,33,44,55,66,77,33]\n",
        "a_list.insert(5,111)#Insert the right number (111) into the first number (5)index position\n",
        "a_list"
      ],
      "metadata": {
        "colab": {
          "base_uri": "https://localhost:8080/"
        },
        "id": "YiAoek5lU6KW",
        "outputId": "44660e03-a2cc-4fac-aa78-956f00970770"
      },
      "execution_count": null,
      "outputs": [
        {
          "output_type": "execute_result",
          "data": {
            "text/plain": [
              "[11, 22, 33, 44, 55, 111, 66, 77, 33]"
            ]
          },
          "metadata": {},
          "execution_count": 37
        }
      ]
    },
    {
      "cell_type": "code",
      "source": [
        "#pop Removes value from the last index by default unless specified index is made\n",
        "a_list = [11,22,33,44,55,66,77,33]\n",
        "print(a_list.pop())\n",
        "print(a_list.pop(2))\n",
        "print(a_list)"
      ],
      "metadata": {
        "colab": {
          "base_uri": "https://localhost:8080/"
        },
        "id": "ghZxWC04VyJ3",
        "outputId": "fc9d50a2-a30d-467f-8b4c-37485b995133"
      },
      "execution_count": null,
      "outputs": [
        {
          "output_type": "stream",
          "name": "stdout",
          "text": [
            "33\n",
            "33\n",
            "[11, 22, 44, 55, 66, 77]\n"
          ]
        }
      ]
    },
    {
      "cell_type": "code",
      "source": [
        "#Remove funtcion removes only the first element passed from the left even if there are more\n",
        "a_list = [11,22,33,44,55,66,77,33]\n",
        "a_list.remove(33)\n",
        "print(a_list)\n"
      ],
      "metadata": {
        "id": "zy530B3PWkbA"
      },
      "execution_count": null,
      "outputs": []
    },
    {
      "cell_type": "code",
      "source": [
        "#Reverse Fuction reverse the elements in the list\n",
        "a_list = [11,22,33,44,55,66,77]\n",
        "a_list.reverse()\n",
        "print(a_list)"
      ],
      "metadata": {
        "id": "cBnuhrIWX-Oe"
      },
      "execution_count": null,
      "outputs": []
    },
    {
      "cell_type": "code",
      "source": [
        "#sort function sort out the list in ascending order\n",
        "a_list = [11,58,33,1,80,5,25]\n",
        "a_list.sort()\n",
        "print(a_list)"
      ],
      "metadata": {
        "id": "MUxfHE1yYZ1O"
      },
      "execution_count": null,
      "outputs": []
    },
    {
      "cell_type": "code",
      "source": [
        "#sort function in Descending\n",
        "a_list = [11,58,33,1,80,5,25]\n",
        "a_list.sort(reverse=True) # Descending order\n",
        "print(a_list)"
      ],
      "metadata": {
        "id": "ePHU5OGKRx7-"
      },
      "execution_count": null,
      "outputs": []
    },
    {
      "cell_type": "code",
      "source": [
        "#Tuple inbuilt functions\n",
        "a = (1,2,3)\n",
        "dir(a)"
      ],
      "metadata": {
        "colab": {
          "base_uri": "https://localhost:8080/"
        },
        "id": "rx9y5mgPLdAq",
        "outputId": "489d81ef-58c1-40cc-b176-27e240b8153f"
      },
      "execution_count": null,
      "outputs": [
        {
          "output_type": "execute_result",
          "data": {
            "text/plain": [
              "['__add__',\n",
              " '__class__',\n",
              " '__class_getitem__',\n",
              " '__contains__',\n",
              " '__delattr__',\n",
              " '__dir__',\n",
              " '__doc__',\n",
              " '__eq__',\n",
              " '__format__',\n",
              " '__ge__',\n",
              " '__getattribute__',\n",
              " '__getitem__',\n",
              " '__getnewargs__',\n",
              " '__gt__',\n",
              " '__hash__',\n",
              " '__init__',\n",
              " '__init_subclass__',\n",
              " '__iter__',\n",
              " '__le__',\n",
              " '__len__',\n",
              " '__lt__',\n",
              " '__mul__',\n",
              " '__ne__',\n",
              " '__new__',\n",
              " '__reduce__',\n",
              " '__reduce_ex__',\n",
              " '__repr__',\n",
              " '__rmul__',\n",
              " '__setattr__',\n",
              " '__sizeof__',\n",
              " '__str__',\n",
              " '__subclasshook__',\n",
              " 'count',\n",
              " 'index']"
            ]
          },
          "metadata": {},
          "execution_count": 2
        }
      ]
    },
    {
      "cell_type": "code",
      "source": [
        "#count\n",
        "b_tup=(1,2,3,4,2,4)\n",
        "b_tup.count(4)\n"
      ],
      "metadata": {
        "colab": {
          "base_uri": "https://localhost:8080/"
        },
        "id": "CWQWR3vNbP8L",
        "outputId": "55416974-37e2-4363-94e9-474907dafa55"
      },
      "execution_count": null,
      "outputs": [
        {
          "output_type": "execute_result",
          "data": {
            "text/plain": [
              "2"
            ]
          },
          "metadata": {},
          "execution_count": 59
        }
      ]
    },
    {
      "cell_type": "code",
      "source": [
        "#index returns the index\n",
        "b_tup=(1,2,3,4,2,4)\n",
        "b_tup.index(4)"
      ],
      "metadata": {
        "colab": {
          "base_uri": "https://localhost:8080/"
        },
        "id": "6P9mBpvgbR1z",
        "outputId": "d61df5bf-9af2-4b48-90d3-b8a31b926357"
      },
      "execution_count": null,
      "outputs": [
        {
          "output_type": "execute_result",
          "data": {
            "text/plain": [
              "3"
            ]
          },
          "metadata": {},
          "execution_count": 60
        }
      ]
    },
    {
      "cell_type": "code",
      "source": [
        "#Question 1) Remove all repeated elements from the list Given below using for loop.\n",
        "a = [1, 2, 3, 4, 5, 11, 1, 2, 6, 1, 8]\n",
        "print(\"List Before duplicate are removed\", a)\n",
        "new_list = []\n",
        "for i in a:\n",
        "    if i not in new_list:\n",
        "        new_list.append(i)\n",
        "print('List after duplicate are removed',new_list)\n"
      ],
      "metadata": {
        "colab": {
          "base_uri": "https://localhost:8080/"
        },
        "id": "Syw7lSbF9Fwq",
        "outputId": "7589d2dc-d37b-46f8-f87e-16aed29f299e"
      },
      "execution_count": null,
      "outputs": [
        {
          "output_type": "stream",
          "name": "stdout",
          "text": [
            "[1, 2, 3, 4, 5, 11, 6, 8]\n"
          ]
        }
      ]
    },
    {
      "cell_type": "code",
      "source": [
        "#Question 2) Print all prime numbers below 100\n",
        "list_of_prime_numbers= []\n",
        "for k in range(2,100):\n",
        "  flag = True\n",
        "  for s in range(2,k):\n",
        "    if k%s==0:\n",
        "      flag=False\n",
        "      break\n",
        "  if flag:\n",
        "    list_of_prime_numbers.append(k)\n",
        "for prime in list_of_prime_numbers:\n",
        "  print(prime,\"is a prime number\")\n",
        "\n"
      ],
      "metadata": {
        "colab": {
          "base_uri": "https://localhost:8080/"
        },
        "id": "bZa2Z0psdw72",
        "outputId": "a695d298-e905-4a78-f966-30568c7ac126"
      },
      "execution_count": null,
      "outputs": [
        {
          "output_type": "stream",
          "name": "stdout",
          "text": [
            "2 is a prime number\n",
            "3 is a prime number\n",
            "5 is a prime number\n",
            "7 is a prime number\n",
            "11 is a prime number\n",
            "13 is a prime number\n",
            "17 is a prime number\n",
            "19 is a prime number\n",
            "23 is a prime number\n",
            "29 is a prime number\n",
            "31 is a prime number\n",
            "37 is a prime number\n",
            "41 is a prime number\n",
            "43 is a prime number\n",
            "47 is a prime number\n",
            "53 is a prime number\n",
            "59 is a prime number\n",
            "61 is a prime number\n",
            "67 is a prime number\n",
            "71 is a prime number\n",
            "73 is a prime number\n",
            "79 is a prime number\n",
            "83 is a prime number\n",
            "89 is a prime number\n",
            "97 is a prime number\n"
          ]
        }
      ]
    },
    {
      "cell_type": "code",
      "source": [
        "#3. print list in reverse order using for loop\n",
        "lst1 = [1, 2, 3, 4, 5]\n",
        "for i in lst1[::-1]:\n",
        "    print(i)\n"
      ],
      "metadata": {
        "colab": {
          "base_uri": "https://localhost:8080/"
        },
        "id": "CORPP3mA6uyQ",
        "outputId": "08ec976c-2b19-43f2-89a2-de89b5cc713e"
      },
      "execution_count": null,
      "outputs": [
        {
          "output_type": "stream",
          "name": "stdout",
          "text": [
            "5\n",
            "4\n",
            "3\n",
            "2\n",
            "1\n"
          ]
        }
      ]
    },
    {
      "cell_type": "code",
      "source": [
        "#4. print multiplication table of 13 using for loop\n",
        "num = 13\n",
        "for i in range(1, 11):\n",
        "  print('13 x',i, '=',num*i)\n"
      ],
      "metadata": {
        "id": "Qp6ni4OW7IX2"
      },
      "execution_count": null,
      "outputs": []
    },
    {
      "cell_type": "code",
      "source": [
        "#Python program to find out digits in a number\n",
        "a = input('Enter a number')\n",
        "k = 0\n",
        "for i in range(len(a)):\n",
        "  k = k+1\n",
        "  print(k)\n"
      ],
      "metadata": {
        "id": "IIXhP8NqffTf"
      },
      "execution_count": null,
      "outputs": []
    },
    {
      "cell_type": "code",
      "source": [
        "#Write a program to find greatest common divisor (GCD) or highest common factor (HCF) of given two numbers.\n",
        "a=int(input('First number'))\n",
        "b=int(input('second number'))\n",
        "\n",
        "smallest_number = min(a,b)\n",
        "\n",
        "for k in range(smallest_number,-1,-1):\n",
        "  if a%k==0 and b%k==0:\n",
        "    print('The GCD is', k)\n",
        "    break"
      ],
      "metadata": {
        "colab": {
          "base_uri": "https://localhost:8080/"
        },
        "id": "bglHxzYCgv3H",
        "outputId": "46ca1ead-eb9e-4024-fa03-9db3233eb5ab"
      },
      "execution_count": null,
      "outputs": [
        {
          "output_type": "stream",
          "name": "stdout",
          "text": [
            "First number30\n",
            "second number14\n",
            "The GCD is 2\n"
          ]
        }
      ]
    },
    {
      "cell_type": "code",
      "source": [
        "#Question 1 ) Write a program in Python to display the Factorial of a number.\n",
        "\n",
        "a = int(input('Enter a number'))\n",
        "factorial = 1\n",
        "for i in range(1,a+1):\n",
        "\n",
        "  factorial = factorial * i\n",
        "print(factorial)\n",
        "\n"
      ],
      "metadata": {
        "colab": {
          "base_uri": "https://localhost:8080/"
        },
        "id": "wvm1hthpnJ8d",
        "outputId": "ee4c4741-d9c5-4be8-ae5c-ed0fd952fd71"
      },
      "execution_count": null,
      "outputs": [
        {
          "output_type": "stream",
          "name": "stdout",
          "text": [
            "Enter a number5\n",
            "120\n"
          ]
        }
      ]
    },
    {
      "cell_type": "code",
      "source": [
        "#WAP to separate positive and negative number from a list\n",
        "lst1 = [1,5,-4,-6,5,8,4,8,-2,-6,-8,-10,3,5,]\n",
        "post_num=[]\n",
        "nega_num=[]\n",
        "for i in lst1:\n",
        "  if i > 0:\n",
        "    post_num.append(i)\n",
        "  else:\n",
        "    nega_num.append(i)\n",
        "print(post_num)\n",
        "print(nega_num)\n"
      ],
      "metadata": {
        "colab": {
          "base_uri": "https://localhost:8080/"
        },
        "id": "kwcFZWqTsZLj",
        "outputId": "930e2852-d088-444e-df0d-4382e79328fe"
      },
      "execution_count": null,
      "outputs": [
        {
          "output_type": "stream",
          "name": "stdout",
          "text": [
            "[1, 5, 5, 8, 4, 8, 3, 5]\n",
            "[-4, -6, -2, -6, -8, -10]\n"
          ]
        }
      ]
    },
    {
      "cell_type": "markdown",
      "source": [
        "Practice"
      ],
      "metadata": {
        "id": "spmrqDN82z1C"
      }
    },
    {
      "cell_type": "code",
      "source": [
        "#sum of multiples of 3 and 5 below 100\n",
        "total = 0\n",
        "for i in range(1,100):\n",
        "  if i%3==0 and i%5==0:\n",
        "    total = total + i\n",
        "print(total)\n",
        "\n"
      ],
      "metadata": {
        "id": "_7C2VOKf22Jo"
      },
      "execution_count": null,
      "outputs": []
    },
    {
      "cell_type": "code",
      "source": [
        "#1) Write a Python Function that accepts a hyphen-separated sequence of words as input and prints the words in\n",
        "#a hyphen-separated sequence after sorting them alphabetically.\n",
        "#Sample Items : green-red-yellow-black-white\n",
        "#Expected Result : black-green-red-white-yellow\n",
        "\n",
        "def sort_the_string(words_str):\n",
        "  words_list = words_str.split(\"-\")\n",
        "  sorted_list = sorted(words_list)\n",
        "  print(\"-\".join(sorted_list))\n",
        "\n",
        "sort_the_string(\"green-red-yellow-black-white\")\n",
        "\n",
        "\n"
      ],
      "metadata": {
        "colab": {
          "base_uri": "https://localhost:8080/"
        },
        "id": "wacP6SwFEYs4",
        "outputId": "8e3ac192-936a-484b-ab31-069622ea1de3"
      },
      "execution_count": null,
      "outputs": [
        {
          "output_type": "stream",
          "name": "stdout",
          "text": [
            "black-green-red-white-yellow\n"
          ]
        }
      ]
    },
    {
      "cell_type": "code",
      "source": [
        "#2.  Write a function that accepts a string and count consonant and vowels in that string"
      ],
      "metadata": {
        "id": "cIQc2OuvNKfr"
      },
      "execution_count": null,
      "outputs": []
    },
    {
      "cell_type": "code",
      "source": [
        "#3. Write a Python function to check whether a number is \"Perfect\" or not.\n",
        "#According to Wikipedia : In number theory, a perfect number is a positive integer that is\n",
        "#equal to the sum of its proper positive divisors, that is, the sum of its positive divisors\n",
        "#excluding the number itself (also known as its aliquot sum). Equivalently, a perfect number is\n",
        "#a number that is half the sum of all of its positive divisors (including itself).\n",
        "#Example : The first perfect number is 6, because 1, 2, and 3 are its proper positive divisors,\n",
        "#and 1 + 2 + 3 = 6. Equivalently, the number 6 is equal to half the sum of all its\n",
        "#positive divisors: ( 1 + 2 + 3 + 6 ) / 2 = 6. The next perfect number is 28 = 1 + 2 + 4 + 7 + 14.\n",
        "#This is followed by the perfect numbers 496 and 8128."
      ],
      "metadata": {
        "id": "JoLPBAmWS-hT"
      },
      "execution_count": null,
      "outputs": []
    },
    {
      "cell_type": "code",
      "source": [
        "#4. Write a program to print twin primes less than 1000. If two consecutive odd numbers are both prime then\n",
        "# they are known as twin primes"
      ],
      "metadata": {
        "id": "D5ajc0g3XxBW"
      },
      "execution_count": null,
      "outputs": []
    },
    {
      "cell_type": "code",
      "source": [
        "# 5) Swap first and last element of the list\n",
        "# a=[1,2,5,10,'1']"
      ],
      "metadata": {
        "id": "YwiarqyDdy3K"
      },
      "execution_count": null,
      "outputs": []
    },
    {
      "cell_type": "code",
      "source": [
        "numbers = [1, 2, 3, 4, 5]\n",
        "\n",
        "total = 0\n",
        "\n",
        "for num in numbers:\n",
        "\n",
        "    total += num\n",
        "\n",
        "print(total)"
      ],
      "metadata": {
        "colab": {
          "base_uri": "https://localhost:8080/"
        },
        "id": "jxpJ-IplzHBA",
        "outputId": "004211d7-635a-474d-b770-e49845a50ba4"
      },
      "execution_count": null,
      "outputs": [
        {
          "output_type": "stream",
          "name": "stdout",
          "text": [
            "15\n"
          ]
        }
      ]
    },
    {
      "cell_type": "code",
      "source": [
        "for i in range(3):\n",
        "\n",
        "    for j in range(2):\n",
        "\n",
        "        print(i, j)"
      ],
      "metadata": {
        "colab": {
          "base_uri": "https://localhost:8080/"
        },
        "id": "2LQoRPSMzgtN",
        "outputId": "e87660ad-2e9e-4821-9d87-92e2716114b7"
      },
      "execution_count": null,
      "outputs": [
        {
          "output_type": "stream",
          "name": "stdout",
          "text": [
            "0 0\n",
            "0 1\n",
            "1 0\n",
            "1 1\n",
            "2 0\n",
            "2 1\n"
          ]
        }
      ]
    },
    {
      "cell_type": "code",
      "source": [
        "# Initialize the 3x3 matrix\n",
        "matrix = [\n",
        "    [7, 8, 9],\n",
        "    [4, 5, 6],\n",
        "    [1, 2, 3]\n",
        "]\n",
        "\n",
        "num = int(input(\"Enter a number within the matrix to replace with 'X': \"))\n",
        "\n",
        "if num in matrix[0]:\n",
        "    matrix[0][matrix[0].index(num)] = 'X'\n",
        "elif num in matrix[1]:\n",
        "    matrix[1][matrix[1].index(num)] = 'X'\n",
        "elif num in matrix[2]:\n",
        "    matrix[2][matrix[2].index(num)] = 'X'\n",
        "\n",
        "print(matrix[0])\n",
        "print(matrix[1])\n",
        "print(matrix[2])\n",
        "\n"
      ],
      "metadata": {
        "colab": {
          "base_uri": "https://localhost:8080/"
        },
        "id": "QbdH5bsYqbE3",
        "outputId": "f8838246-0b4d-404c-ba27-8fa2eb03728e"
      },
      "execution_count": null,
      "outputs": [
        {
          "output_type": "stream",
          "name": "stdout",
          "text": [
            "Enter a number (1-9) to replace with 'X': 4\n",
            "[7, 8, 9]\n",
            "['X', 5, 6]\n",
            "[1, 2, 3]\n"
          ]
        }
      ]
    },
    {
      "cell_type": "code",
      "source": [
        "x = \"Hello\"\n",
        "\n",
        "y = \"World\"\n",
        "\n",
        "z = x + y\n",
        "\n",
        "print(z)"
      ],
      "metadata": {
        "colab": {
          "base_uri": "https://localhost:8080/"
        },
        "id": "lSKUzoMWkKD5",
        "outputId": "e225faed-5a6b-43a0-840d-2d44dbe52a69"
      },
      "execution_count": null,
      "outputs": [
        {
          "output_type": "stream",
          "name": "stdout",
          "text": [
            "HelloWorld\n"
          ]
        }
      ]
    },
    {
      "cell_type": "code",
      "source": [
        "x = True\n",
        "\n",
        "y = False\n",
        "\n",
        "z = x and y\n",
        "\n",
        "print(z)"
      ],
      "metadata": {
        "colab": {
          "base_uri": "https://localhost:8080/"
        },
        "id": "I4PXE4uikwuR",
        "outputId": "920d593e-3d9e-4481-ab69-fe90d6fece0e"
      },
      "execution_count": null,
      "outputs": [
        {
          "output_type": "stream",
          "name": "stdout",
          "text": [
            "False\n"
          ]
        }
      ]
    }
  ]
}