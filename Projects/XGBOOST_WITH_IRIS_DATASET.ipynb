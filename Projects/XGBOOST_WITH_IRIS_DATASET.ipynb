{
  "nbformat": 4,
  "nbformat_minor": 0,
  "metadata": {
    "colab": {
      "provenance": []
    },
    "kernelspec": {
      "name": "python3",
      "display_name": "Python 3"
    },
    "language_info": {
      "name": "python"
    }
  },
  "cells": [
    {
      "cell_type": "code",
      "source": [
        "import xgboost as xgb\n",
        "from sklearn import datasets\n"
      ],
      "metadata": {
        "id": "2aJ7eCvChkZi"
      },
      "execution_count": 8,
      "outputs": []
    },
    {
      "cell_type": "code",
      "source": [
        "iris = datasets.load_iris()\n",
        "X = iris.data\n",
        "y = iris.target\n",
        "iris"
      ],
      "metadata": {
        "id": "s6PDWsBYh16k"
      },
      "execution_count": null,
      "outputs": []
    },
    {
      "cell_type": "code",
      "source": [
        "# Spliting the data into training and testing sets\n",
        "from sklearn.model_selection import train_test_split\n",
        "X_train, X_test, y_train, y_test = train_test_split(X, y, test_size=0.2, random_state=30)"
      ],
      "metadata": {
        "id": "Egch5QpxhtZF"
      },
      "execution_count": 11,
      "outputs": []
    },
    {
      "cell_type": "code",
      "execution_count": 12,
      "metadata": {
        "id": "_UDP6O4Ngwnb"
      },
      "outputs": [],
      "source": [
        "# Initialize the model\n",
        "clf = xgb.XGBClassifier()\n",
        "\n",
        "# Training / fitting the classifier\n",
        "clf.fit(X_train, y_train)\n",
        "\n",
        "# predictions\n",
        "y_pred = clf.predict(X_test)\n"
      ]
    },
    {
      "cell_type": "code",
      "source": [
        "# Accuracy\n",
        "from sklearn.metrics import accuracy_score\n",
        "accuracy = accuracy_score(y_test, y_pred)\n",
        "print(f'The model Accuracy is: {accuracy:.2f}')\n"
      ],
      "metadata": {
        "colab": {
          "base_uri": "https://localhost:8080/"
        },
        "id": "OEixLoKyjSCx",
        "outputId": "f85fb796-c7ed-4093-ed9b-97f2e63ceace"
      },
      "execution_count": 13,
      "outputs": [
        {
          "output_type": "stream",
          "name": "stdout",
          "text": [
            "The model Accuracy is: 0.93\n"
          ]
        }
      ]
    }
  ]
}